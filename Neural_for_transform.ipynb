{
  "nbformat": 4,
  "nbformat_minor": 0,
  "metadata": {
    "colab": {
      "name": "Neural_for_transform.ipynb",
      "provenance": [],
      "collapsed_sections": []
    },
    "kernelspec": {
      "name": "python3",
      "display_name": "Python 3"
    },
    "language_info": {
      "name": "python"
    },
    "accelerator": "TPU"
  },
  "cells": [
    {
      "cell_type": "markdown",
      "metadata": {
        "id": "TqVi-pQ8mSsK"
      },
      "source": [
        "# 1. Установка библиотек"
      ]
    },
    {
      "cell_type": "code",
      "metadata": {
        "colab": {
          "base_uri": "https://localhost:8080/"
        },
        "id": "KmdLZ401fBYc",
        "outputId": "2f29c51e-44a8-4765-e1b3-b19f80efc242"
      },
      "source": [
        "!pip install -q condacolab\n",
        "import condacolab\n",
        "condacolab.install()"
      ],
      "execution_count": null,
      "outputs": [
        {
          "output_type": "stream",
          "text": [
            "✨🍰✨ Everything looks OK!\n"
          ],
          "name": "stdout"
        }
      ]
    },
    {
      "cell_type": "code",
      "metadata": {
        "colab": {
          "base_uri": "https://localhost:8080/"
        },
        "id": "NywwD8rnfHik",
        "outputId": "5cc3b88f-f796-44a9-9ea8-442b5597764d"
      },
      "source": [
        "!mamba install -c conda-forge rdkit chembl_structure_pipeline\n"
      ],
      "execution_count": null,
      "outputs": [
        {
          "output_type": "stream",
          "text": [
            "\n",
            "                  __    __    __    __\n",
            "                 /  \\  /  \\  /  \\  /  \\\n",
            "                /    \\/    \\/    \\/    \\\n",
            "███████████████/  /██/  /██/  /██/  /████████████████████████\n",
            "              /  / \\   / \\   / \\   / \\  \\____\n",
            "             /  /   \\_/   \\_/   \\_/   \\    o \\__,\n",
            "            / _/                       \\_____/  `\n",
            "            |/\n",
            "        ███╗   ███╗ █████╗ ███╗   ███╗██████╗  █████╗\n",
            "        ████╗ ████║██╔══██╗████╗ ████║██╔══██╗██╔══██╗\n",
            "        ██╔████╔██║███████║██╔████╔██║██████╔╝███████║\n",
            "        ██║╚██╔╝██║██╔══██║██║╚██╔╝██║██╔══██╗██╔══██║\n",
            "        ██║ ╚═╝ ██║██║  ██║██║ ╚═╝ ██║██████╔╝██║  ██║\n",
            "        ╚═╝     ╚═╝╚═╝  ╚═╝╚═╝     ╚═╝╚═════╝ ╚═╝  ╚═╝\n",
            "\n",
            "        mamba (0.8.0) supported by @QuantStack\n",
            "\n",
            "        GitHub:  https://github.com/mamba-org/mamba\n",
            "        Twitter: https://twitter.com/QuantStack\n",
            "\n",
            "█████████████████████████████████████████████████████████████\n",
            "\n",
            "\n",
            "Looking for: ['rdkit', 'chembl_structure_pipeline']\n",
            "\n",
            "conda-forge/linux-64     Using cache\n",
            "conda-forge/noarch       Using cache\n",
            "pkgs/main/noarch         [] (--:--) No change\n",
            "pkgs/main/noarch         [] (00m:00s) No change\n",
            "pkgs/main/noarch         [] (00m:00s) No change\n",
            "pkgs/r/linux-64          [] (--:--) No change\n",
            "pkgs/r/linux-64          [] (00m:00s) No change\n",
            "pkgs/r/linux-64          [] (00m:00s) No change\n",
            "pkgs/r/noarch            [] (--:--) No change\n",
            "pkgs/r/noarch            [] (00m:00s) No change\n",
            "pkgs/r/noarch            [] (00m:00s) No change\n",
            "pkgs/main/linux-64       [] (--:--) No change\n",
            "pkgs/main/linux-64       [] (00m:00s) No change\n",
            "pkgs/main/linux-64       [] (00m:00s) No change\n",
            "Transaction\n",
            "\n",
            "  Prefix: /usr/local\n",
            "\n",
            "  All requested packages already installed\n",
            "\n"
          ],
          "name": "stdout"
        }
      ]
    },
    {
      "cell_type": "code",
      "metadata": {
        "colab": {
          "base_uri": "https://localhost:8080/"
        },
        "id": "W1QfOjn0fJTa",
        "outputId": "6b574ed9-941e-4688-b128-d3e36edef464"
      },
      "source": [
        "!git clone https://github.com/DSPsleeporg/smiles-transformer.git"
      ],
      "execution_count": null,
      "outputs": [
        {
          "output_type": "stream",
          "text": [
            "fatal: destination path 'smiles-transformer' already exists and is not an empty directory.\n"
          ],
          "name": "stdout"
        }
      ]
    },
    {
      "cell_type": "code",
      "metadata": {
        "id": "tm4l5UDtfN0-"
      },
      "source": [
        "import os\n",
        "import numpy as np\n",
        "import pandas as pd\n",
        "import matplotlib.pyplot as plt\n",
        "\n",
        "from rdkit import Chem\n",
        "from rdkit.Chem import AllChem, Draw\n",
        "from rdkit.Chem.Draw import DrawingOptions\n",
        "\n",
        "from sklearn.neural_network import MLPClassifier\n",
        "from sklearn.model_selection import train_test_split\n",
        "from sklearn.metrics import roc_auc_score\n",
        "\n",
        "from sklearn.neighbors import NearestNeighbors\n",
        "\n",
        "sys.path.append('./smiles-transformer/smiles_transformer')\n",
        "\n",
        "import torch\n",
        "from pretrain_trfm import TrfmSeq2seq\n",
        "from build_vocab import WordVocab\n",
        "from utils import split\n",
        "\n",
        "\n",
        "from sklearn.linear_model import LinearRegression, LogisticRegression, Ridge\n",
        "from sklearn.ensemble import RandomForestClassifier, RandomForestRegressor\n",
        "from sklearn.model_selection import train_test_split\n",
        "from sklearn.metrics import mean_squared_error, r2_score, roc_auc_score, precision_recall_curve, auc "
      ],
      "execution_count": null,
      "outputs": []
    },
    {
      "cell_type": "markdown",
      "metadata": {
        "id": "49sFjdFHft53"
      },
      "source": [
        "Была преподготовка, закачиваем данные"
      ]
    },
    {
      "cell_type": "code",
      "metadata": {
        "colab": {
          "base_uri": "https://localhost:8080/"
        },
        "id": "PDDCFihofVsL",
        "outputId": "f4e4bf94-7041-4242-d115-e2db91cc822f"
      },
      "source": [
        "# Загружаем словарь символы-номера символов\n",
        "!wget https://github.com/kostyastrong/HSE_nlp_mol_properties/raw/master/data/vocab.pkl"
      ],
      "execution_count": null,
      "outputs": [
        {
          "output_type": "stream",
          "text": [
            "--2021-05-09 19:47:23--  https://github.com/kostyastrong/HSE_nlp_mol_properties/raw/master/data/vocab.pkl\n",
            "Resolving github.com (github.com)... 140.82.112.3\n",
            "Connecting to github.com (github.com)|140.82.112.3|:443... connected.\n",
            "HTTP request sent, awaiting response... 302 Found\n",
            "Location: https://raw.githubusercontent.com/kostyastrong/HSE_nlp_mol_properties/master/data/vocab.pkl [following]\n",
            "--2021-05-09 19:47:23--  https://raw.githubusercontent.com/kostyastrong/HSE_nlp_mol_properties/master/data/vocab.pkl\n",
            "Resolving raw.githubusercontent.com (raw.githubusercontent.com)... 185.199.108.133, 185.199.109.133, 185.199.110.133, ...\n",
            "Connecting to raw.githubusercontent.com (raw.githubusercontent.com)|185.199.108.133|:443... connected.\n",
            "HTTP request sent, awaiting response... 200 OK\n",
            "Length: 1723 (1.7K) [application/octet-stream]\n",
            "Saving to: ‘vocab.pkl.3’\n",
            "\n",
            "\rvocab.pkl.3           0%[                    ]       0  --.-KB/s               \rvocab.pkl.3         100%[===================>]   1.68K  --.-KB/s    in 0s      \n",
            "\n",
            "2021-05-09 19:47:23 (29.6 MB/s) - ‘vocab.pkl.3’ saved [1723/1723]\n",
            "\n"
          ],
          "name": "stdout"
        }
      ]
    },
    {
      "cell_type": "code",
      "metadata": {
        "colab": {
          "base_uri": "https://localhost:8080/"
        },
        "id": "CoZ_BM1zfylu",
        "outputId": "b316b0d6-6782-4e88-d377-b672dc946927"
      },
      "source": [
        "# загрузим веса предобученной модели\n",
        "!wget https://github.com/kostyastrong/HSE_nlp_mol_properties/raw/master/data/weights_trfm.pkl"
      ],
      "execution_count": null,
      "outputs": [
        {
          "output_type": "stream",
          "text": [
            "--2021-05-09 19:47:23--  https://github.com/kostyastrong/HSE_nlp_mol_properties/raw/master/data/weights_trfm.pkl\n",
            "Resolving github.com (github.com)... 140.82.113.3\n",
            "Connecting to github.com (github.com)|140.82.113.3|:443... connected.\n",
            "HTTP request sent, awaiting response... 302 Found\n",
            "Location: https://raw.githubusercontent.com/kostyastrong/HSE_nlp_mol_properties/master/data/weights_trfm.pkl [following]\n",
            "--2021-05-09 19:47:23--  https://raw.githubusercontent.com/kostyastrong/HSE_nlp_mol_properties/master/data/weights_trfm.pkl\n",
            "Resolving raw.githubusercontent.com (raw.githubusercontent.com)... 185.199.108.133, 185.199.109.133, 185.199.110.133, ...\n",
            "Connecting to raw.githubusercontent.com (raw.githubusercontent.com)|185.199.108.133|:443... connected.\n",
            "HTTP request sent, awaiting response... 200 OK\n",
            "Length: 22128521 (21M) [application/octet-stream]\n",
            "Saving to: ‘weights_trfm.pkl.3’\n",
            "\n",
            "weights_trfm.pkl.3  100%[===================>]  21.10M  51.0MB/s    in 0.4s    \n",
            "\n",
            "2021-05-09 19:47:24 (51.0 MB/s) - ‘weights_trfm.pkl.3’ saved [22128521/22128521]\n",
            "\n"
          ],
          "name": "stdout"
        }
      ]
    },
    {
      "cell_type": "code",
      "metadata": {
        "id": "bLummEgVf8sB"
      },
      "source": [
        "pad_index = 0\n",
        "unk_index = 1\n",
        "eos_index = 2\n",
        "sos_index = 3\n",
        "mask_index = 4"
      ],
      "execution_count": null,
      "outputs": []
    },
    {
      "cell_type": "code",
      "metadata": {
        "id": "t6j3xVTcgAe2"
      },
      "source": [
        "vocab = WordVocab.load_vocab('vocab.pkl')"
      ],
      "execution_count": null,
      "outputs": []
    },
    {
      "cell_type": "markdown",
      "metadata": {
        "id": "UKi-epqqnYC-"
      },
      "source": [
        "# 2. Функции, трансформеры"
      ]
    },
    {
      "cell_type": "code",
      "metadata": {
        "colab": {
          "base_uri": "https://localhost:8080/"
        },
        "id": "a32E5VazgDB8",
        "outputId": "1f21cebd-a461-4b7d-c178-8aab97607687"
      },
      "source": [
        "trfm = TrfmSeq2seq(len(vocab), 256, len(vocab), 4) \n",
        "trfm.load_state_dict(torch.load(\"weights_trfm.pkl\", map_location=torch.device('cpu')))\n",
        "trfm.eval()\n",
        "print('Total parameters:', sum(p.numel() for p in trfm.parameters()))"
      ],
      "execution_count": null,
      "outputs": [
        {
          "output_type": "stream",
          "text": [
            "Total parameters: 4245037\n"
          ],
          "name": "stdout"
        }
      ]
    },
    {
      "cell_type": "code",
      "metadata": {
        "id": "9MLZGmQjqbpN"
      },
      "source": [
        "# Функция принимает на вход один SMILES, укорачивает их\n",
        "# При помощи словаря переводит символы в набор цифр\n",
        "# Возвращает массив чисел\n",
        "def get_inputs(sm):\n",
        "    seq_len = 220\n",
        "    sm = sm.split()\n",
        "    if len(sm)>218:\n",
        "        print('SMILES is too long ({:d})'.format(len(sm)))\n",
        "        sm = sm[:109]+sm[-109:]\n",
        "    ids = [vocab.stoi.get(token, unk_index) for token in sm]\n",
        "    ids = [sos_index] + ids + [eos_index]\n",
        "    seg = [1]*len(ids) \n",
        "    padding = [pad_index]*(seq_len - len(ids))\n",
        "    ids.extend(padding), seg.extend(padding)\n",
        "    return ids\n",
        "\n",
        "# Функция принимает на вход набор SMILES\n",
        "# И применяет функцию get_inputs()\n",
        "def get_array(smiles):\n",
        "    x_id = []\n",
        "    for sm in smiles:\n",
        "        a = get_inputs(sm)\n",
        "        x_id.append(a)\n",
        "        \n",
        "    return torch.tensor(x_id)"
      ],
      "execution_count": null,
      "outputs": []
    },
    {
      "cell_type": "code",
      "metadata": {
        "id": "rs7eqJkWrdLT"
      },
      "source": [
        "class MyDataset(torch.utils.data.Dataset):\n",
        "    def __init__(self, X_data, y_data):\n",
        "        self.X_data = torch.tensor(X_data)\n",
        "        self.y_data = torch.tensor(y_data)\n",
        "\n",
        "    def __len__(self):\n",
        "        return len(self.X_data)\n",
        "\n",
        "    def __getitem__(self, indexes):\n",
        "        if torch.is_tensor(indexes):\n",
        "            indexes = indexes.tolist()\n",
        "        predict = self.X_data[indexes, :]\n",
        "        ans = self.y_data[indexes]\n",
        "        return predict, ans"
      ],
      "execution_count": null,
      "outputs": []
    },
    {
      "cell_type": "code",
      "metadata": {
        "id": "fDxPlVNn7N25"
      },
      "source": [
        "class EarlyStopping:\n",
        "    def __init__(self, patience=7, delta=0, verbose=False, path='/content/drive/MyDrive/HSE_data/strong_model.pt'):\n",
        "        from google.colab import drive\n",
        "        drive.mount('/content/drive')\n",
        "        \n",
        "        self.patience = patience\n",
        "        self.delta = delta\n",
        "        self.stop = False\n",
        "        self.verbose = verbose #wtf\n",
        "        self.path = path\n",
        "        self.best_score = None\n",
        "        self.best_model = None\n",
        "        self.counter = 0\n",
        "        self.epoch = 0\n",
        "\n",
        "    def __call__(self, val_loss, model, epoch = 0):\n",
        "        if (self.best_score == None or self.best_score - self.delta > val_loss): #less loss - better\n",
        "            self.best_score = val_loss\n",
        "            self.best_model = model\n",
        "            self.counter = 0\n",
        "            self.epoch = epoch\n",
        "        elif (self.best_score - self.delta < val_loss): #should I write this statement?\n",
        "            self.counter += 1\n",
        "            if (self.counter > self.patience):\n",
        "                self.save_model()\n",
        "                self.stop = True\n",
        "\n",
        "    \n",
        "    def save_model(self):\n",
        "        torch.save(self.best_model, self.path)"
      ],
      "execution_count": null,
      "outputs": []
    },
    {
      "cell_type": "code",
      "metadata": {
        "id": "FL-IbpwbmHn_"
      },
      "source": [
        "import torch.nn as nn\n",
        "class my_damn_net(nn.Module):\n",
        "    def __init__(self, num_features = 1024, drop_prob = 0.5):\n",
        "        super().__init__()\n",
        "        self.input_layer = nn.Linear(num_features, 512)\n",
        "        \n",
        "        #что можно сделать с слоем релу\n",
        "        self.second_layer = nn.Linear(512, 256)\n",
        "        self.third_layer = nn.Linear(256, 128)\n",
        "        self.ans = nn.Linear(128, 1)\n",
        "        self.dropout = nn.Dropout(0.5)\n",
        "        \n",
        "\n",
        "    def forward(self, x): #wtf is x\n",
        "        x = F.relu(self.input_layer(x))\n",
        "        self.dropout(x)\n",
        "\n",
        "        x = F.relu(self.second_layer(x))\n",
        "        self.dropout(x)\n",
        "\n",
        "        x = F.relu(self.third_layer(x))\n",
        "        self.dropout(x)\n",
        "\n",
        "        x = self.ans(x)\n",
        "\n",
        "        return x"
      ],
      "execution_count": null,
      "outputs": []
    },
    {
      "cell_type": "code",
      "metadata": {
        "id": "hbLCli6KdMqW"
      },
      "source": [
        "import torch.optim as optim\n",
        "    \n",
        "# torch.cuda.is_available() checks and returns a Boolean True if a GPU is available, else it'll return False\n",
        "is_cuda = torch.cuda.is_available()\n",
        "\n",
        "# If we have a GPU available, we'll set our device to GPU. We'll use this device variable later in our code.\n",
        "if is_cuda:\n",
        "    device = torch.device(\"cuda\")\n",
        "else:\n",
        "    device = torch.device(\"cpu\")\n"
      ],
      "execution_count": null,
      "outputs": []
    },
    {
      "cell_type": "markdown",
      "metadata": {
        "id": "-ti-Apq8m64i"
      },
      "source": [
        "# 3. Обработка ESOL (растворимость в воде)"
      ]
    },
    {
      "cell_type": "code",
      "metadata": {
        "colab": {
          "base_uri": "https://localhost:8080/"
        },
        "id": "w-kkY7AkgG4o",
        "outputId": "07d90434-e479-44a4-c094-ddf6ac46b05a"
      },
      "source": [
        "!wget https://github.com/kostyastrong/HSE_nlp_mol_properties/raw/master/data/esol.csv"
      ],
      "execution_count": null,
      "outputs": [
        {
          "output_type": "stream",
          "text": [
            "--2021-05-09 19:47:24--  https://github.com/kostyastrong/HSE_nlp_mol_properties/raw/master/data/esol.csv\n",
            "Resolving github.com (github.com)... 140.82.112.4\n",
            "Connecting to github.com (github.com)|140.82.112.4|:443... connected.\n",
            "HTTP request sent, awaiting response... 302 Found\n",
            "Location: https://raw.githubusercontent.com/kostyastrong/HSE_nlp_mol_properties/master/data/esol.csv [following]\n",
            "--2021-05-09 19:47:24--  https://raw.githubusercontent.com/kostyastrong/HSE_nlp_mol_properties/master/data/esol.csv\n",
            "Resolving raw.githubusercontent.com (raw.githubusercontent.com)... 185.199.111.133, 185.199.110.133, 185.199.108.133, ...\n",
            "Connecting to raw.githubusercontent.com (raw.githubusercontent.com)|185.199.111.133|:443... connected.\n",
            "HTTP request sent, awaiting response... 200 OK\n",
            "Length: 96699 (94K) [text/plain]\n",
            "Saving to: ‘esol.csv.2’\n",
            "\n",
            "\resol.csv.2            0%[                    ]       0  --.-KB/s               \resol.csv.2          100%[===================>]  94.43K  --.-KB/s    in 0.01s   \n",
            "\n",
            "2021-05-09 19:47:24 (6.44 MB/s) - ‘esol.csv.2’ saved [96699/96699]\n",
            "\n"
          ],
          "name": "stdout"
        }
      ]
    },
    {
      "cell_type": "code",
      "metadata": {
        "id": "968aYrW0gIaI"
      },
      "source": [
        "data = pd.read_csv('esol.csv')"
      ],
      "execution_count": null,
      "outputs": []
    },
    {
      "cell_type": "code",
      "metadata": {
        "id": "5AS6mOJOgLGi"
      },
      "source": [
        "from multiprocessing import Pool\n",
        "with Pool(10) as pool:\n",
        "    x_split = pool.map(split, data.smiles) \n",
        "xid = get_array(x_split)"
      ],
      "execution_count": null,
      "outputs": []
    },
    {
      "cell_type": "code",
      "metadata": {
        "colab": {
          "base_uri": "https://localhost:8080/"
        },
        "id": "qXPfGPm7gN5d",
        "outputId": "393d969c-6b89-4e60-ce37-e049eb80a139"
      },
      "source": [
        "X_esol = trfm.encode(torch.t(xid))\n",
        "y_esol = data['measured log solubility in mols per litre']\n",
        "print(X_esol.shape)"
      ],
      "execution_count": null,
      "outputs": [
        {
          "output_type": "stream",
          "text": [
            "There are 1128 molecules. It will take a little time.\n",
            "(1128, 1024)\n"
          ],
          "name": "stdout"
        }
      ]
    },
    {
      "cell_type": "code",
      "metadata": {
        "id": "vPq3HjBvk8yx"
      },
      "source": [
        "X_train, X_test, y_train, y_test = train_test_split(X_esol, y_esol, test_size=0.1, random_state=42)\n",
        "X_train, X_valid, y_train, y_valid = train_test_split(X_train, y_train, test_size=0.1)\n",
        "trainset = MyDataset(X_train, y_train.values)\n",
        "validset = MyDataset(X_valid, y_valid.values)\n",
        "\n",
        "batch_size = 60\n",
        "trainloader = torch.utils.data.DataLoader(trainset, batch_size=batch_size) #already shuffled\n",
        "validloader = torch.utils.data.DataLoader(validset, batch_size=batch_size)\n"
      ],
      "execution_count": null,
      "outputs": []
    },
    {
      "cell_type": "code",
      "metadata": {
        "colab": {
          "base_uri": "https://localhost:8080/"
        },
        "id": "KlZVwOktMCFW",
        "outputId": "1d757c28-bf34-49db-9e09-06ce3371d99b"
      },
      "source": [
        "validset[0]"
      ],
      "execution_count": null,
      "outputs": [
        {
          "output_type": "execute_result",
          "data": {
            "text/plain": [
              "(tensor([ 0.0640,  0.0149,  0.2818,  ...,  0.4324,  0.0027, -0.1128]),\n",
              " tensor(-3.1000, dtype=torch.float64))"
            ]
          },
          "metadata": {
            "tags": []
          },
          "execution_count": 73
        }
      ]
    },
    {
      "cell_type": "code",
      "metadata": {
        "colab": {
          "base_uri": "https://localhost:8080/"
        },
        "id": "2Z-M24H4dwJY",
        "outputId": "1033aa46-215c-4e15-d363-3fe18bba1311"
      },
      "source": [
        "j = 0\n",
        "for feat, ans in validloader:\n",
        "    print(feat)\n",
        "    print(ans)\n",
        "    print(type(feat), type(ans))\n",
        "    print()\n",
        "    j += 1\n",
        "\n",
        "    if j == 2:\n",
        "        break"
      ],
      "execution_count": null,
      "outputs": [
        {
          "output_type": "stream",
          "text": [
            "tensor([[ 6.3982e-02,  1.4949e-02,  2.8181e-01,  ...,  4.3241e-01,\n",
            "          2.6571e-03, -1.1278e-01],\n",
            "        [ 9.1348e-02,  3.7658e-01,  1.2822e-01,  ...,  1.0216e+00,\n",
            "          8.5062e-01,  1.1116e+00],\n",
            "        [ 1.9781e-01,  3.6786e-01,  3.7407e-01,  ...,  9.4718e-01,\n",
            "          1.0744e+00,  1.2071e+00],\n",
            "        ...,\n",
            "        [ 1.2706e-01,  2.8139e-01,  2.6762e-01,  ...,  1.2405e+00,\n",
            "          1.0430e+00,  8.3476e-01],\n",
            "        [ 7.9611e-02,  1.1679e-03,  5.0510e-01,  ...,  1.1728e-01,\n",
            "          4.4676e-01,  6.5926e-02],\n",
            "        [ 1.6750e-01, -7.4661e-02,  2.7782e-01,  ...,  6.3189e-01,\n",
            "          7.7741e-01,  4.3164e-01]])\n",
            "tensor([-3.1000, -1.8860, -8.4000, -4.6400, -2.0600, -8.0570, -5.7200, -2.6760,\n",
            "        -3.6900, -1.3000, -3.0830, -4.3000, -2.9400, -2.3560, -2.1900, -1.2900,\n",
            "        -2.6300, -0.9200, -2.5640, -1.7200, -2.7300, -0.1400, -1.0900, -3.1200,\n",
            "        -3.1500, -4.5300, -4.3600, -2.8900, -2.1700, -0.8200, -6.3400, -1.8500,\n",
            "        -3.1800, -0.8500, -2.3900, -0.1700, -0.7800, -4.8710, -3.8930, -2.8630,\n",
            "        -1.5060, -2.9600, -0.5100, -6.3170, -2.0900, -0.7420, -2.6400,  0.6400,\n",
            "        -1.3600, -1.7100, -3.3640, -0.6300, -5.6130, -4.7060, -1.9200, -1.2800,\n",
            "        -3.4990, -3.3900, -4.0000, -0.1000], dtype=torch.float64)\n",
            "<class 'torch.Tensor'> <class 'torch.Tensor'>\n",
            "\n",
            "tensor([[ 0.1284,  0.1558,  0.1139,  ...,  0.3606,  0.7646,  0.7155],\n",
            "        [ 0.1511,  0.0444,  0.2274,  ...,  0.6922,  0.2692,  0.6028],\n",
            "        [ 0.0918,  0.1536,  0.0861,  ...,  0.4428,  1.2249,  0.5849],\n",
            "        ...,\n",
            "        [ 0.1029,  0.0568,  0.2591,  ...,  0.6437,  0.8909,  0.8799],\n",
            "        [ 0.2189,  0.0918,  0.0312,  ...,  0.4411,  0.6194,  0.4027],\n",
            "        [ 0.0142,  0.2428, -0.0680,  ...,  0.6410,  0.4496,  0.9443]])\n",
            "tensor([-5.8500, -1.6000, -3.7960, -0.8800, -5.4000, -4.7600, -2.6700, -0.8900,\n",
            "        -2.6470, -2.5900, -1.8030, -4.0700, -8.6000, -6.5900, -1.9890, -2.4300,\n",
            "        -5.1600, -1.8100, -2.9320, -2.3500, -3.4800, -1.8000, -3.1800, -2.0300,\n",
            "        -5.0500, -5.8900, -0.8500, -1.6200, -0.7100, -2.3600, -4.9000, -3.1500,\n",
            "        -6.8000, -0.7700, -4.6340, -3.7000, -3.5360, -8.1760, -4.8000, -0.4660,\n",
            "        -8.8040, -2.8900], dtype=torch.float64)\n",
            "<class 'torch.Tensor'> <class 'torch.Tensor'>\n",
            "\n"
          ],
          "name": "stdout"
        }
      ]
    },
    {
      "cell_type": "markdown",
      "metadata": {
        "id": "YFToQswYf_YM"
      },
      "source": [
        "![image.png](data:image/png;base64,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)\n"
      ]
    },
    {
      "cell_type": "code",
      "metadata": {
        "colab": {
          "base_uri": "https://localhost:8080/"
        },
        "id": "fE9tUtxOE669",
        "outputId": "88bc9e1c-72a7-40f2-b9fc-4d98a4acfb53"
      },
      "source": [
        "y_test.values"
      ],
      "execution_count": null,
      "outputs": [
        {
          "output_type": "execute_result",
          "data": {
            "text/plain": [
              "array([-2.54 , -2.253, -2.484, -2.54 , -7.2  , -1.19 , -4.314, -2.19 ,\n",
              "       -7.66 , -2.57 , -4.42 ,  0.54 , -3.4  , -2.18 , -3.38 , -1.92 ,\n",
              "       -2.05 , -8.334, -4.37 , -3.76 , -1.84 , -6.35 ,  0.7  , -1.57 ,\n",
              "       -0.74 , -7.21 , -0.49 , -0.63 , -1.23 , -1.9  , -1.34 , -6.726,\n",
              "       -3.74 , -1.55 , -2.55 , -2.58 , -4.56 ,  0.   , -4.02 , -6.876,\n",
              "       -1.17 , -8.017, -4.207, -5.68 , -7.8  , -4.72 , -4.95 , -4.02 ,\n",
              "       -5.05 , -8.003, -5.08 , -7.92 , -1.52 , -1.99 , -1.17 , -4.749,\n",
              "       -1.63 , -3.09 , -3.   , -6.291, -2.17 , -2.322, -0.04 , -5.736,\n",
              "       -4.114, -1.13 , -2.13 , -3.96 , -2.35 , -2.084, -0.29 ,  0.76 ,\n",
              "       -2.21 , -3.931, -2.878, -0.59 , -1.98 , -4.576, -4.755, -5.64 ,\n",
              "       -4.62 , -1.68 , -3.01 , -4.046, -5.06 , -1.38 , -2.64 , -0.12 ,\n",
              "       -6.62 , -0.4  , -3.083, -3.59 , -4.63 , -1.04 , -1.75 , -5.43 ,\n",
              "       -0.96 ,  1.07 , -1.78 , -0.41 , -1.74 , -2.68 , -5.84 , -3.19 ,\n",
              "       -1.25 , -3.451,  1.144, -0.8  , -5.071, -7.321, -7.85 , -1.22 ,\n",
              "       -2.39 ])"
            ]
          },
          "metadata": {
            "tags": []
          },
          "execution_count": 75
        }
      ]
    },
    {
      "cell_type": "code",
      "metadata": {
        "id": "yv_F41lslgWI"
      },
      "source": [
        "def valid_calculat(model, validloader):\n",
        "    true_val = []\n",
        "    pred_val = []\n",
        "\n",
        "    with torch.no_grad():\n",
        "        for feat, ans in validloader:\n",
        "            feat = feat.to(device)\n",
        "\n",
        "            output = model(feat).float()\n",
        "            output = output.flatten()\n",
        "            true_val += list(ans.cpu().numpy())\n",
        "            pred_val += list(output.cpu().numpy())\n",
        "\n",
        "    return mean_squared_error(true_val, pred_val)\n",
        "\n",
        "def test_calculat(model, X_test, y_test):\n",
        "    with torch.no_grad():\n",
        "        X_test = X_test.to(device)\n",
        "        output = model(X_test)\n",
        "        output = output.flatten()\n",
        "        output = list(output.cpu().numpy())\n",
        "    \n",
        "    plt.hist(output, alpha=0.5)\n",
        "    plt.hist(y_test, alpha=0.5)\n",
        "    from scipy.stats import mannwhitneyu\n",
        "    print(mannwhitneyu(output, y_test))\n",
        "\n",
        "    return mean_squared_error(y_test, output), r2_score(y_test, output)"
      ],
      "execution_count": null,
      "outputs": []
    },
    {
      "cell_type": "code",
      "metadata": {
        "id": "wkKZSFFdmFX7",
        "colab": {
          "base_uri": "https://localhost:8080/"
        },
        "outputId": "0a5d1a1a-bc98-4cde-9251-3c835d259901"
      },
      "source": [
        "import torch.nn.functional as F\n",
        "# Создаем новую модель\n",
        "model = my_damn_net()\n",
        "\n",
        "model = model.to(device)\n",
        "\n",
        "\n",
        "# Loss функция и оптимизатор будут необходимы при обучении.\n",
        "criterion = nn.MSELoss()\n",
        "optimizer = optim.Adam(model.parameters(), \n",
        "                    lr=0.001\n",
        "                    )\n",
        "\n",
        "ctrl = EarlyStopping()\n",
        "\n",
        "from tqdm import tqdm\n",
        "\n",
        "epoch = 0\n",
        "valid_loss = []\n",
        "train_loss = []\n",
        "\n",
        "while not ctrl.stop:\n",
        "    running_loss = 0\n",
        "\n",
        "    for feat, ans in tqdm(trainloader):\n",
        "        feat = feat.to(device)\n",
        "        ans = ans.float()\n",
        "        ans = ans.to(device)\n",
        "        optimizer.zero_grad() #обнуление градиента\n",
        "        \n",
        "        output = model(feat).float()\n",
        "        \n",
        "        loss = criterion(output, ans)\n",
        "\n",
        "        loss.backward() #вычисление градиента\n",
        "\n",
        "        optimizer.step() #обучение нейронки\n",
        "\n",
        "        running_loss += loss.item()\n",
        "\n",
        "    loss = valid_calculat(model, validloader)\n",
        "    valid_loss.append(loss)\n",
        "\n",
        "    ctrl(loss, model)\n",
        "\n",
        "    train_loss.append(running_loss / len(trainloader))\n",
        "\n",
        "    print(f\"Epoch {epoch} - training loss: {train_loss[-1]}\")\n",
        "    print(f\"Epoch {epoch} - validation loss: {loss}\")\n",
        "    print()\n",
        "\n",
        "    epoch += 1\n",
        "\n",
        "    if epoch == 150:\n",
        "        break\n",
        "\n"
      ],
      "execution_count": null,
      "outputs": [
        {
          "output_type": "stream",
          "text": [
            "\r  0%|          | 0/16 [00:00<?, ?it/s]"
          ],
          "name": "stderr"
        },
        {
          "output_type": "stream",
          "text": [
            "Drive already mounted at /content/drive; to attempt to forcibly remount, call drive.mount(\"/content/drive\", force_remount=True).\n"
          ],
          "name": "stdout"
        },
        {
          "output_type": "stream",
          "text": [
            "/usr/local/lib/python3.7/dist-packages/torch/nn/modules/loss.py:528: UserWarning: Using a target size (torch.Size([60])) that is different to the input size (torch.Size([60, 1])). This will likely lead to incorrect results due to broadcasting. Please ensure they have the same size.\n",
            "  return F.mse_loss(input, target, reduction=self.reduction)\n",
            " 94%|█████████▍| 15/16 [00:00<00:00, 70.22it/s]/usr/local/lib/python3.7/dist-packages/torch/nn/modules/loss.py:528: UserWarning: Using a target size (torch.Size([13])) that is different to the input size (torch.Size([13, 1])). This will likely lead to incorrect results due to broadcasting. Please ensure they have the same size.\n",
            "  return F.mse_loss(input, target, reduction=self.reduction)\n",
            "100%|██████████| 16/16 [00:00<00:00, 67.22it/s]\n",
            "  0%|          | 0/16 [00:00<?, ?it/s]/usr/local/lib/python3.7/dist-packages/torch/nn/modules/loss.py:528: UserWarning: Using a target size (torch.Size([60])) that is different to the input size (torch.Size([60, 1])). This will likely lead to incorrect results due to broadcasting. Please ensure they have the same size.\n",
            "  return F.mse_loss(input, target, reduction=self.reduction)\n",
            " 56%|█████▋    | 9/16 [00:00<00:00, 84.27it/s]"
          ],
          "name": "stderr"
        },
        {
          "output_type": "stream",
          "text": [
            "Epoch 0 - training loss: 5.59193129837513\n",
            "Epoch 0 - validation loss: 4.266020443557263\n",
            "\n"
          ],
          "name": "stdout"
        },
        {
          "output_type": "stream",
          "text": [
            "/usr/local/lib/python3.7/dist-packages/torch/nn/modules/loss.py:528: UserWarning: Using a target size (torch.Size([13])) that is different to the input size (torch.Size([13, 1])). This will likely lead to incorrect results due to broadcasting. Please ensure they have the same size.\n",
            "  return F.mse_loss(input, target, reduction=self.reduction)\n",
            "100%|██████████| 16/16 [00:00<00:00, 77.05it/s]\n",
            "  0%|          | 0/16 [00:00<?, ?it/s]/usr/local/lib/python3.7/dist-packages/torch/nn/modules/loss.py:528: UserWarning: Using a target size (torch.Size([60])) that is different to the input size (torch.Size([60, 1])). This will likely lead to incorrect results due to broadcasting. Please ensure they have the same size.\n",
            "  return F.mse_loss(input, target, reduction=self.reduction)\n",
            " 56%|█████▋    | 9/16 [00:00<00:00, 80.76it/s]/usr/local/lib/python3.7/dist-packages/torch/nn/modules/loss.py:528: UserWarning: Using a target size (torch.Size([13])) that is different to the input size (torch.Size([13, 1])). This will likely lead to incorrect results due to broadcasting. Please ensure they have the same size.\n",
            "  return F.mse_loss(input, target, reduction=self.reduction)\n",
            "100%|██████████| 16/16 [00:00<00:00, 81.32it/s]"
          ],
          "name": "stderr"
        },
        {
          "output_type": "stream",
          "text": [
            "Epoch 1 - training loss: 4.3644032925367355\n",
            "Epoch 1 - validation loss: 4.340349775888963\n",
            "\n"
          ],
          "name": "stdout"
        },
        {
          "output_type": "stream",
          "text": [
            "\n",
            "  0%|          | 0/16 [00:00<?, ?it/s]/usr/local/lib/python3.7/dist-packages/torch/nn/modules/loss.py:528: UserWarning: Using a target size (torch.Size([60])) that is different to the input size (torch.Size([60, 1])). This will likely lead to incorrect results due to broadcasting. Please ensure they have the same size.\n",
            "  return F.mse_loss(input, target, reduction=self.reduction)\n",
            " 50%|█████     | 8/16 [00:00<00:00, 75.37it/s]"
          ],
          "name": "stderr"
        },
        {
          "output_type": "stream",
          "text": [
            "Epoch 2 - training loss: 4.330246135592461\n",
            "Epoch 2 - validation loss: 4.28634136483443\n",
            "\n"
          ],
          "name": "stdout"
        },
        {
          "output_type": "stream",
          "text": [
            "/usr/local/lib/python3.7/dist-packages/torch/nn/modules/loss.py:528: UserWarning: Using a target size (torch.Size([13])) that is different to the input size (torch.Size([13, 1])). This will likely lead to incorrect results due to broadcasting. Please ensure they have the same size.\n",
            "  return F.mse_loss(input, target, reduction=self.reduction)\n",
            "100%|██████████| 16/16 [00:00<00:00, 77.92it/s]\n",
            "  0%|          | 0/16 [00:00<?, ?it/s]/usr/local/lib/python3.7/dist-packages/torch/nn/modules/loss.py:528: UserWarning: Using a target size (torch.Size([60])) that is different to the input size (torch.Size([60, 1])). This will likely lead to incorrect results due to broadcasting. Please ensure they have the same size.\n",
            "  return F.mse_loss(input, target, reduction=self.reduction)\n",
            " 50%|█████     | 8/16 [00:00<00:00, 75.53it/s]"
          ],
          "name": "stderr"
        },
        {
          "output_type": "stream",
          "text": [
            "Epoch 3 - training loss: 4.2804266810417175\n",
            "Epoch 3 - validation loss: 4.184385181770972\n",
            "\n"
          ],
          "name": "stdout"
        },
        {
          "output_type": "stream",
          "text": [
            "/usr/local/lib/python3.7/dist-packages/torch/nn/modules/loss.py:528: UserWarning: Using a target size (torch.Size([13])) that is different to the input size (torch.Size([13, 1])). This will likely lead to incorrect results due to broadcasting. Please ensure they have the same size.\n",
            "  return F.mse_loss(input, target, reduction=self.reduction)\n",
            "100%|██████████| 16/16 [00:00<00:00, 72.70it/s]\n",
            "  0%|          | 0/16 [00:00<?, ?it/s]/usr/local/lib/python3.7/dist-packages/torch/nn/modules/loss.py:528: UserWarning: Using a target size (torch.Size([60])) that is different to the input size (torch.Size([60, 1])). This will likely lead to incorrect results due to broadcasting. Please ensure they have the same size.\n",
            "  return F.mse_loss(input, target, reduction=self.reduction)\n",
            " 50%|█████     | 8/16 [00:00<00:00, 77.37it/s]"
          ],
          "name": "stderr"
        },
        {
          "output_type": "stream",
          "text": [
            "Epoch 4 - training loss: 4.2749544233083725\n",
            "Epoch 4 - validation loss: 4.166638733228969\n",
            "\n"
          ],
          "name": "stdout"
        },
        {
          "output_type": "stream",
          "text": [
            "/usr/local/lib/python3.7/dist-packages/torch/nn/modules/loss.py:528: UserWarning: Using a target size (torch.Size([13])) that is different to the input size (torch.Size([13, 1])). This will likely lead to incorrect results due to broadcasting. Please ensure they have the same size.\n",
            "  return F.mse_loss(input, target, reduction=self.reduction)\n",
            "100%|██████████| 16/16 [00:00<00:00, 77.62it/s]\n",
            "  0%|          | 0/16 [00:00<?, ?it/s]/usr/local/lib/python3.7/dist-packages/torch/nn/modules/loss.py:528: UserWarning: Using a target size (torch.Size([60])) that is different to the input size (torch.Size([60, 1])). This will likely lead to incorrect results due to broadcasting. Please ensure they have the same size.\n",
            "  return F.mse_loss(input, target, reduction=self.reduction)\n",
            " 50%|█████     | 8/16 [00:00<00:00, 78.93it/s]/usr/local/lib/python3.7/dist-packages/torch/nn/modules/loss.py:528: UserWarning: Using a target size (torch.Size([13])) that is different to the input size (torch.Size([13, 1])). This will likely lead to incorrect results due to broadcasting. Please ensure they have the same size.\n",
            "  return F.mse_loss(input, target, reduction=self.reduction)\n"
          ],
          "name": "stderr"
        },
        {
          "output_type": "stream",
          "text": [
            "Epoch 5 - training loss: 4.2762007266283035\n",
            "Epoch 5 - validation loss: 4.136177528962204\n",
            "\n"
          ],
          "name": "stdout"
        },
        {
          "output_type": "stream",
          "text": [
            "100%|██████████| 16/16 [00:00<00:00, 77.22it/s]\n",
            "  0%|          | 0/16 [00:00<?, ?it/s]/usr/local/lib/python3.7/dist-packages/torch/nn/modules/loss.py:528: UserWarning: Using a target size (torch.Size([60])) that is different to the input size (torch.Size([60, 1])). This will likely lead to incorrect results due to broadcasting. Please ensure they have the same size.\n",
            "  return F.mse_loss(input, target, reduction=self.reduction)\n",
            " 56%|█████▋    | 9/16 [00:00<00:00, 83.18it/s]"
          ],
          "name": "stderr"
        },
        {
          "output_type": "stream",
          "text": [
            "Epoch 6 - training loss: 4.272820383310318\n",
            "Epoch 6 - validation loss: 4.119941338246396\n",
            "\n"
          ],
          "name": "stdout"
        },
        {
          "output_type": "stream",
          "text": [
            "/usr/local/lib/python3.7/dist-packages/torch/nn/modules/loss.py:528: UserWarning: Using a target size (torch.Size([13])) that is different to the input size (torch.Size([13, 1])). This will likely lead to incorrect results due to broadcasting. Please ensure they have the same size.\n",
            "  return F.mse_loss(input, target, reduction=self.reduction)\n",
            "100%|██████████| 16/16 [00:00<00:00, 79.89it/s]\n",
            "  0%|          | 0/16 [00:00<?, ?it/s]/usr/local/lib/python3.7/dist-packages/torch/nn/modules/loss.py:528: UserWarning: Using a target size (torch.Size([60])) that is different to the input size (torch.Size([60, 1])). This will likely lead to incorrect results due to broadcasting. Please ensure they have the same size.\n",
            "  return F.mse_loss(input, target, reduction=self.reduction)\n",
            " 50%|█████     | 8/16 [00:00<00:00, 77.90it/s]"
          ],
          "name": "stderr"
        },
        {
          "output_type": "stream",
          "text": [
            "Epoch 7 - training loss: 4.271808415651321\n",
            "Epoch 7 - validation loss: 4.105396365872966\n",
            "\n"
          ],
          "name": "stdout"
        },
        {
          "output_type": "stream",
          "text": [
            "/usr/local/lib/python3.7/dist-packages/torch/nn/modules/loss.py:528: UserWarning: Using a target size (torch.Size([13])) that is different to the input size (torch.Size([13, 1])). This will likely lead to incorrect results due to broadcasting. Please ensure they have the same size.\n",
            "  return F.mse_loss(input, target, reduction=self.reduction)\n",
            "100%|██████████| 16/16 [00:00<00:00, 80.57it/s]\n",
            "  0%|          | 0/16 [00:00<?, ?it/s]/usr/local/lib/python3.7/dist-packages/torch/nn/modules/loss.py:528: UserWarning: Using a target size (torch.Size([60])) that is different to the input size (torch.Size([60, 1])). This will likely lead to incorrect results due to broadcasting. Please ensure they have the same size.\n",
            "  return F.mse_loss(input, target, reduction=self.reduction)\n",
            " 44%|████▍     | 7/16 [00:00<00:00, 68.83it/s]"
          ],
          "name": "stderr"
        },
        {
          "output_type": "stream",
          "text": [
            "Epoch 8 - training loss: 4.270368814468384\n",
            "Epoch 8 - validation loss: 4.091189589512256\n",
            "\n"
          ],
          "name": "stdout"
        },
        {
          "output_type": "stream",
          "text": [
            "/usr/local/lib/python3.7/dist-packages/torch/nn/modules/loss.py:528: UserWarning: Using a target size (torch.Size([13])) that is different to the input size (torch.Size([13, 1])). This will likely lead to incorrect results due to broadcasting. Please ensure they have the same size.\n",
            "  return F.mse_loss(input, target, reduction=self.reduction)\n",
            "100%|██████████| 16/16 [00:00<00:00, 73.37it/s]\n",
            "  0%|          | 0/16 [00:00<?, ?it/s]/usr/local/lib/python3.7/dist-packages/torch/nn/modules/loss.py:528: UserWarning: Using a target size (torch.Size([60])) that is different to the input size (torch.Size([60, 1])). This will likely lead to incorrect results due to broadcasting. Please ensure they have the same size.\n",
            "  return F.mse_loss(input, target, reduction=self.reduction)\n",
            " 56%|█████▋    | 9/16 [00:00<00:00, 81.97it/s]/usr/local/lib/python3.7/dist-packages/torch/nn/modules/loss.py:528: UserWarning: Using a target size (torch.Size([13])) that is different to the input size (torch.Size([13, 1])). This will likely lead to incorrect results due to broadcasting. Please ensure they have the same size.\n",
            "  return F.mse_loss(input, target, reduction=self.reduction)\n",
            "100%|██████████| 16/16 [00:00<00:00, 81.74it/s]"
          ],
          "name": "stderr"
        },
        {
          "output_type": "stream",
          "text": [
            "Epoch 9 - training loss: 4.269341617822647\n",
            "Epoch 9 - validation loss: 4.079298671332769\n",
            "\n"
          ],
          "name": "stdout"
        },
        {
          "output_type": "stream",
          "text": [
            "\n",
            "  0%|          | 0/16 [00:00<?, ?it/s]/usr/local/lib/python3.7/dist-packages/torch/nn/modules/loss.py:528: UserWarning: Using a target size (torch.Size([60])) that is different to the input size (torch.Size([60, 1])). This will likely lead to incorrect results due to broadcasting. Please ensure they have the same size.\n",
            "  return F.mse_loss(input, target, reduction=self.reduction)\n",
            " 56%|█████▋    | 9/16 [00:00<00:00, 85.41it/s]/usr/local/lib/python3.7/dist-packages/torch/nn/modules/loss.py:528: UserWarning: Using a target size (torch.Size([13])) that is different to the input size (torch.Size([13, 1])). This will likely lead to incorrect results due to broadcasting. Please ensure they have the same size.\n",
            "  return F.mse_loss(input, target, reduction=self.reduction)\n",
            "100%|██████████| 16/16 [00:00<00:00, 84.83it/s]"
          ],
          "name": "stderr"
        },
        {
          "output_type": "stream",
          "text": [
            "Epoch 10 - training loss: 4.268050029873848\n",
            "Epoch 10 - validation loss: 4.073142893835277\n",
            "\n"
          ],
          "name": "stdout"
        },
        {
          "output_type": "stream",
          "text": [
            "\n",
            "  0%|          | 0/16 [00:00<?, ?it/s]/usr/local/lib/python3.7/dist-packages/torch/nn/modules/loss.py:528: UserWarning: Using a target size (torch.Size([60])) that is different to the input size (torch.Size([60, 1])). This will likely lead to incorrect results due to broadcasting. Please ensure they have the same size.\n",
            "  return F.mse_loss(input, target, reduction=self.reduction)\n",
            " 50%|█████     | 8/16 [00:00<00:00, 78.97it/s]"
          ],
          "name": "stderr"
        },
        {
          "output_type": "stream",
          "text": [
            "Epoch 11 - training loss: 4.267103850841522\n",
            "Epoch 11 - validation loss: 4.058887922674029\n",
            "\n"
          ],
          "name": "stdout"
        },
        {
          "output_type": "stream",
          "text": [
            "/usr/local/lib/python3.7/dist-packages/torch/nn/modules/loss.py:528: UserWarning: Using a target size (torch.Size([13])) that is different to the input size (torch.Size([13, 1])). This will likely lead to incorrect results due to broadcasting. Please ensure they have the same size.\n",
            "  return F.mse_loss(input, target, reduction=self.reduction)\n",
            "100%|██████████| 16/16 [00:00<00:00, 81.15it/s]\n",
            "  0%|          | 0/16 [00:00<?, ?it/s]/usr/local/lib/python3.7/dist-packages/torch/nn/modules/loss.py:528: UserWarning: Using a target size (torch.Size([60])) that is different to the input size (torch.Size([60, 1])). This will likely lead to incorrect results due to broadcasting. Please ensure they have the same size.\n",
            "  return F.mse_loss(input, target, reduction=self.reduction)\n",
            " 56%|█████▋    | 9/16 [00:00<00:00, 82.49it/s]/usr/local/lib/python3.7/dist-packages/torch/nn/modules/loss.py:528: UserWarning: Using a target size (torch.Size([13])) that is different to the input size (torch.Size([13, 1])). This will likely lead to incorrect results due to broadcasting. Please ensure they have the same size.\n",
            "  return F.mse_loss(input, target, reduction=self.reduction)\n",
            "100%|██████████| 16/16 [00:00<00:00, 80.18it/s]"
          ],
          "name": "stderr"
        },
        {
          "output_type": "stream",
          "text": [
            "Epoch 12 - training loss: 4.265834733843803\n",
            "Epoch 12 - validation loss: 4.057017596948353\n",
            "\n"
          ],
          "name": "stdout"
        },
        {
          "output_type": "stream",
          "text": [
            "\n",
            "  0%|          | 0/16 [00:00<?, ?it/s]/usr/local/lib/python3.7/dist-packages/torch/nn/modules/loss.py:528: UserWarning: Using a target size (torch.Size([60])) that is different to the input size (torch.Size([60, 1])). This will likely lead to incorrect results due to broadcasting. Please ensure they have the same size.\n",
            "  return F.mse_loss(input, target, reduction=self.reduction)\n",
            " 50%|█████     | 8/16 [00:00<00:00, 78.94it/s]"
          ],
          "name": "stderr"
        },
        {
          "output_type": "stream",
          "text": [
            "Epoch 13 - training loss: 4.265105217695236\n",
            "Epoch 13 - validation loss: 4.0463431723203565\n",
            "\n"
          ],
          "name": "stdout"
        },
        {
          "output_type": "stream",
          "text": [
            "/usr/local/lib/python3.7/dist-packages/torch/nn/modules/loss.py:528: UserWarning: Using a target size (torch.Size([13])) that is different to the input size (torch.Size([13, 1])). This will likely lead to incorrect results due to broadcasting. Please ensure they have the same size.\n",
            "  return F.mse_loss(input, target, reduction=self.reduction)\n",
            "100%|██████████| 16/16 [00:00<00:00, 79.48it/s]\n",
            "  0%|          | 0/16 [00:00<?, ?it/s]/usr/local/lib/python3.7/dist-packages/torch/nn/modules/loss.py:528: UserWarning: Using a target size (torch.Size([60])) that is different to the input size (torch.Size([60, 1])). This will likely lead to incorrect results due to broadcasting. Please ensure they have the same size.\n",
            "  return F.mse_loss(input, target, reduction=self.reduction)\n",
            " 50%|█████     | 8/16 [00:00<00:00, 74.93it/s]"
          ],
          "name": "stderr"
        },
        {
          "output_type": "stream",
          "text": [
            "Epoch 14 - training loss: 4.26388344168663\n",
            "Epoch 14 - validation loss: 4.0453125303616675\n",
            "\n"
          ],
          "name": "stdout"
        },
        {
          "output_type": "stream",
          "text": [
            "/usr/local/lib/python3.7/dist-packages/torch/nn/modules/loss.py:528: UserWarning: Using a target size (torch.Size([13])) that is different to the input size (torch.Size([13, 1])). This will likely lead to incorrect results due to broadcasting. Please ensure they have the same size.\n",
            "  return F.mse_loss(input, target, reduction=self.reduction)\n",
            "100%|██████████| 16/16 [00:00<00:00, 72.82it/s]\n",
            "  0%|          | 0/16 [00:00<?, ?it/s]/usr/local/lib/python3.7/dist-packages/torch/nn/modules/loss.py:528: UserWarning: Using a target size (torch.Size([60])) that is different to the input size (torch.Size([60, 1])). This will likely lead to incorrect results due to broadcasting. Please ensure they have the same size.\n",
            "  return F.mse_loss(input, target, reduction=self.reduction)\n",
            " 50%|█████     | 8/16 [00:00<00:00, 72.72it/s]"
          ],
          "name": "stderr"
        },
        {
          "output_type": "stream",
          "text": [
            "Epoch 15 - training loss: 4.263232633471489\n",
            "Epoch 15 - validation loss: 4.038884978699874\n",
            "\n"
          ],
          "name": "stdout"
        },
        {
          "output_type": "stream",
          "text": [
            "/usr/local/lib/python3.7/dist-packages/torch/nn/modules/loss.py:528: UserWarning: Using a target size (torch.Size([13])) that is different to the input size (torch.Size([13, 1])). This will likely lead to incorrect results due to broadcasting. Please ensure they have the same size.\n",
            "  return F.mse_loss(input, target, reduction=self.reduction)\n",
            "100%|██████████| 16/16 [00:00<00:00, 73.22it/s]\n",
            "  0%|          | 0/16 [00:00<?, ?it/s]/usr/local/lib/python3.7/dist-packages/torch/nn/modules/loss.py:528: UserWarning: Using a target size (torch.Size([60])) that is different to the input size (torch.Size([60, 1])). This will likely lead to incorrect results due to broadcasting. Please ensure they have the same size.\n",
            "  return F.mse_loss(input, target, reduction=self.reduction)\n",
            " 56%|█████▋    | 9/16 [00:00<00:00, 81.13it/s]"
          ],
          "name": "stderr"
        },
        {
          "output_type": "stream",
          "text": [
            "Epoch 16 - training loss: 4.262189477682114\n",
            "Epoch 16 - validation loss: 4.033578623088578\n",
            "\n"
          ],
          "name": "stdout"
        },
        {
          "output_type": "stream",
          "text": [
            "/usr/local/lib/python3.7/dist-packages/torch/nn/modules/loss.py:528: UserWarning: Using a target size (torch.Size([13])) that is different to the input size (torch.Size([13, 1])). This will likely lead to incorrect results due to broadcasting. Please ensure they have the same size.\n",
            "  return F.mse_loss(input, target, reduction=self.reduction)\n",
            "100%|██████████| 16/16 [00:00<00:00, 79.99it/s]\n",
            "  0%|          | 0/16 [00:00<?, ?it/s]/usr/local/lib/python3.7/dist-packages/torch/nn/modules/loss.py:528: UserWarning: Using a target size (torch.Size([60])) that is different to the input size (torch.Size([60, 1])). This will likely lead to incorrect results due to broadcasting. Please ensure they have the same size.\n",
            "  return F.mse_loss(input, target, reduction=self.reduction)\n",
            " 50%|█████     | 8/16 [00:00<00:00, 76.37it/s]"
          ],
          "name": "stderr"
        },
        {
          "output_type": "stream",
          "text": [
            "Epoch 17 - training loss: 4.26130536198616\n",
            "Epoch 17 - validation loss: 4.030307334192108\n",
            "\n"
          ],
          "name": "stdout"
        },
        {
          "output_type": "stream",
          "text": [
            "/usr/local/lib/python3.7/dist-packages/torch/nn/modules/loss.py:528: UserWarning: Using a target size (torch.Size([13])) that is different to the input size (torch.Size([13, 1])). This will likely lead to incorrect results due to broadcasting. Please ensure they have the same size.\n",
            "  return F.mse_loss(input, target, reduction=self.reduction)\n",
            "100%|██████████| 16/16 [00:00<00:00, 74.12it/s]\n",
            "  0%|          | 0/16 [00:00<?, ?it/s]/usr/local/lib/python3.7/dist-packages/torch/nn/modules/loss.py:528: UserWarning: Using a target size (torch.Size([60])) that is different to the input size (torch.Size([60, 1])). This will likely lead to incorrect results due to broadcasting. Please ensure they have the same size.\n",
            "  return F.mse_loss(input, target, reduction=self.reduction)\n",
            " 56%|█████▋    | 9/16 [00:00<00:00, 80.94it/s]/usr/local/lib/python3.7/dist-packages/torch/nn/modules/loss.py:528: UserWarning: Using a target size (torch.Size([13])) that is different to the input size (torch.Size([13, 1])). This will likely lead to incorrect results due to broadcasting. Please ensure they have the same size.\n",
            "  return F.mse_loss(input, target, reduction=self.reduction)\n",
            "100%|██████████| 16/16 [00:00<00:00, 82.50it/s]"
          ],
          "name": "stderr"
        },
        {
          "output_type": "stream",
          "text": [
            "Epoch 18 - training loss: 4.260319873690605\n",
            "Epoch 18 - validation loss: 4.031239588201988\n",
            "\n"
          ],
          "name": "stdout"
        },
        {
          "output_type": "stream",
          "text": [
            "\n",
            "  0%|          | 0/16 [00:00<?, ?it/s]/usr/local/lib/python3.7/dist-packages/torch/nn/modules/loss.py:528: UserWarning: Using a target size (torch.Size([60])) that is different to the input size (torch.Size([60, 1])). This will likely lead to incorrect results due to broadcasting. Please ensure they have the same size.\n",
            "  return F.mse_loss(input, target, reduction=self.reduction)\n",
            " 50%|█████     | 8/16 [00:00<00:00, 79.79it/s]/usr/local/lib/python3.7/dist-packages/torch/nn/modules/loss.py:528: UserWarning: Using a target size (torch.Size([13])) that is different to the input size (torch.Size([13, 1])). This will likely lead to incorrect results due to broadcasting. Please ensure they have the same size.\n",
            "  return F.mse_loss(input, target, reduction=self.reduction)\n",
            "100%|██████████| 16/16 [00:00<00:00, 82.44it/s]"
          ],
          "name": "stderr"
        },
        {
          "output_type": "stream",
          "text": [
            "Epoch 19 - training loss: 4.259416401386261\n",
            "Epoch 19 - validation loss: 4.024951231236835\n",
            "\n"
          ],
          "name": "stdout"
        },
        {
          "output_type": "stream",
          "text": [
            "\n",
            "  0%|          | 0/16 [00:00<?, ?it/s]/usr/local/lib/python3.7/dist-packages/torch/nn/modules/loss.py:528: UserWarning: Using a target size (torch.Size([60])) that is different to the input size (torch.Size([60, 1])). This will likely lead to incorrect results due to broadcasting. Please ensure they have the same size.\n",
            "  return F.mse_loss(input, target, reduction=self.reduction)\n",
            " 56%|█████▋    | 9/16 [00:00<00:00, 82.81it/s]"
          ],
          "name": "stderr"
        },
        {
          "output_type": "stream",
          "text": [
            "Epoch 20 - training loss: 4.258546516299248\n",
            "Epoch 20 - validation loss: 4.031437136811836\n",
            "\n"
          ],
          "name": "stdout"
        },
        {
          "output_type": "stream",
          "text": [
            "/usr/local/lib/python3.7/dist-packages/torch/nn/modules/loss.py:528: UserWarning: Using a target size (torch.Size([13])) that is different to the input size (torch.Size([13, 1])). This will likely lead to incorrect results due to broadcasting. Please ensure they have the same size.\n",
            "  return F.mse_loss(input, target, reduction=self.reduction)\n",
            "100%|██████████| 16/16 [00:00<00:00, 78.31it/s]\n",
            "  0%|          | 0/16 [00:00<?, ?it/s]/usr/local/lib/python3.7/dist-packages/torch/nn/modules/loss.py:528: UserWarning: Using a target size (torch.Size([60])) that is different to the input size (torch.Size([60, 1])). This will likely lead to incorrect results due to broadcasting. Please ensure they have the same size.\n",
            "  return F.mse_loss(input, target, reduction=self.reduction)\n",
            " 56%|█████▋    | 9/16 [00:00<00:00, 83.88it/s]/usr/local/lib/python3.7/dist-packages/torch/nn/modules/loss.py:528: UserWarning: Using a target size (torch.Size([13])) that is different to the input size (torch.Size([13, 1])). This will likely lead to incorrect results due to broadcasting. Please ensure they have the same size.\n",
            "  return F.mse_loss(input, target, reduction=self.reduction)\n"
          ],
          "name": "stderr"
        },
        {
          "output_type": "stream",
          "text": [
            "Epoch 21 - training loss: 4.2576023042202\n",
            "Epoch 21 - validation loss: 4.015284099150196\n",
            "\n"
          ],
          "name": "stdout"
        },
        {
          "output_type": "stream",
          "text": [
            "100%|██████████| 16/16 [00:00<00:00, 79.61it/s]\n",
            "  0%|          | 0/16 [00:00<?, ?it/s]/usr/local/lib/python3.7/dist-packages/torch/nn/modules/loss.py:528: UserWarning: Using a target size (torch.Size([60])) that is different to the input size (torch.Size([60, 1])). This will likely lead to incorrect results due to broadcasting. Please ensure they have the same size.\n",
            "  return F.mse_loss(input, target, reduction=self.reduction)\n",
            " 50%|█████     | 8/16 [00:00<00:00, 73.92it/s]"
          ],
          "name": "stderr"
        },
        {
          "output_type": "stream",
          "text": [
            "Epoch 22 - training loss: 4.256709560751915\n",
            "Epoch 22 - validation loss: 4.036063449334428\n",
            "\n"
          ],
          "name": "stdout"
        },
        {
          "output_type": "stream",
          "text": [
            "/usr/local/lib/python3.7/dist-packages/torch/nn/modules/loss.py:528: UserWarning: Using a target size (torch.Size([13])) that is different to the input size (torch.Size([13, 1])). This will likely lead to incorrect results due to broadcasting. Please ensure they have the same size.\n",
            "  return F.mse_loss(input, target, reduction=self.reduction)\n",
            "100%|██████████| 16/16 [00:00<00:00, 74.97it/s]\n",
            "  0%|          | 0/16 [00:00<?, ?it/s]/usr/local/lib/python3.7/dist-packages/torch/nn/modules/loss.py:528: UserWarning: Using a target size (torch.Size([60])) that is different to the input size (torch.Size([60, 1])). This will likely lead to incorrect results due to broadcasting. Please ensure they have the same size.\n",
            "  return F.mse_loss(input, target, reduction=self.reduction)\n",
            " 50%|█████     | 8/16 [00:00<00:00, 76.57it/s]"
          ],
          "name": "stderr"
        },
        {
          "output_type": "stream",
          "text": [
            "Epoch 23 - training loss: 4.2564234137535095\n",
            "Epoch 23 - validation loss: 4.009668035035917\n",
            "\n"
          ],
          "name": "stdout"
        },
        {
          "output_type": "stream",
          "text": [
            "/usr/local/lib/python3.7/dist-packages/torch/nn/modules/loss.py:528: UserWarning: Using a target size (torch.Size([13])) that is different to the input size (torch.Size([13, 1])). This will likely lead to incorrect results due to broadcasting. Please ensure they have the same size.\n",
            "  return F.mse_loss(input, target, reduction=self.reduction)\n",
            "100%|██████████| 16/16 [00:00<00:00, 72.50it/s]\n",
            "  0%|          | 0/16 [00:00<?, ?it/s]/usr/local/lib/python3.7/dist-packages/torch/nn/modules/loss.py:528: UserWarning: Using a target size (torch.Size([60])) that is different to the input size (torch.Size([60, 1])). This will likely lead to incorrect results due to broadcasting. Please ensure they have the same size.\n",
            "  return F.mse_loss(input, target, reduction=self.reduction)\n",
            " 56%|█████▋    | 9/16 [00:00<00:00, 80.43it/s]"
          ],
          "name": "stderr"
        },
        {
          "output_type": "stream",
          "text": [
            "Epoch 24 - training loss: 4.25499914586544\n",
            "Epoch 24 - validation loss: 4.030539814394558\n",
            "\n"
          ],
          "name": "stdout"
        },
        {
          "output_type": "stream",
          "text": [
            "/usr/local/lib/python3.7/dist-packages/torch/nn/modules/loss.py:528: UserWarning: Using a target size (torch.Size([13])) that is different to the input size (torch.Size([13, 1])). This will likely lead to incorrect results due to broadcasting. Please ensure they have the same size.\n",
            "  return F.mse_loss(input, target, reduction=self.reduction)\n",
            "100%|██████████| 16/16 [00:00<00:00, 78.40it/s]\n",
            "  0%|          | 0/16 [00:00<?, ?it/s]/usr/local/lib/python3.7/dist-packages/torch/nn/modules/loss.py:528: UserWarning: Using a target size (torch.Size([60])) that is different to the input size (torch.Size([60, 1])). This will likely lead to incorrect results due to broadcasting. Please ensure they have the same size.\n",
            "  return F.mse_loss(input, target, reduction=self.reduction)\n",
            " 56%|█████▋    | 9/16 [00:00<00:00, 83.04it/s]/usr/local/lib/python3.7/dist-packages/torch/nn/modules/loss.py:528: UserWarning: Using a target size (torch.Size([13])) that is different to the input size (torch.Size([13, 1])). This will likely lead to incorrect results due to broadcasting. Please ensure they have the same size.\n",
            "  return F.mse_loss(input, target, reduction=self.reduction)\n",
            "100%|██████████| 16/16 [00:00<00:00, 82.21it/s]"
          ],
          "name": "stderr"
        },
        {
          "output_type": "stream",
          "text": [
            "Epoch 25 - training loss: 4.255066618323326\n",
            "Epoch 25 - validation loss: 4.015609693512221\n",
            "\n"
          ],
          "name": "stdout"
        },
        {
          "output_type": "stream",
          "text": [
            "\n",
            "  0%|          | 0/16 [00:00<?, ?it/s]/usr/local/lib/python3.7/dist-packages/torch/nn/modules/loss.py:528: UserWarning: Using a target size (torch.Size([60])) that is different to the input size (torch.Size([60, 1])). This will likely lead to incorrect results due to broadcasting. Please ensure they have the same size.\n",
            "  return F.mse_loss(input, target, reduction=self.reduction)\n",
            " 50%|█████     | 8/16 [00:00<00:00, 77.84it/s]"
          ],
          "name": "stderr"
        },
        {
          "output_type": "stream",
          "text": [
            "Epoch 26 - training loss: 4.25359907746315\n",
            "Epoch 26 - validation loss: 4.02316624470932\n",
            "\n"
          ],
          "name": "stdout"
        },
        {
          "output_type": "stream",
          "text": [
            "/usr/local/lib/python3.7/dist-packages/torch/nn/modules/loss.py:528: UserWarning: Using a target size (torch.Size([13])) that is different to the input size (torch.Size([13, 1])). This will likely lead to incorrect results due to broadcasting. Please ensure they have the same size.\n",
            "  return F.mse_loss(input, target, reduction=self.reduction)\n",
            "100%|██████████| 16/16 [00:00<00:00, 75.46it/s]\n",
            "  0%|          | 0/16 [00:00<?, ?it/s]/usr/local/lib/python3.7/dist-packages/torch/nn/modules/loss.py:528: UserWarning: Using a target size (torch.Size([60])) that is different to the input size (torch.Size([60, 1])). This will likely lead to incorrect results due to broadcasting. Please ensure they have the same size.\n",
            "  return F.mse_loss(input, target, reduction=self.reduction)\n",
            " 50%|█████     | 8/16 [00:00<00:00, 74.07it/s]"
          ],
          "name": "stderr"
        },
        {
          "output_type": "stream",
          "text": [
            "Epoch 27 - training loss: 4.253237992525101\n",
            "Epoch 27 - validation loss: 3.9989712901495955\n",
            "\n"
          ],
          "name": "stdout"
        },
        {
          "output_type": "stream",
          "text": [
            "/usr/local/lib/python3.7/dist-packages/torch/nn/modules/loss.py:528: UserWarning: Using a target size (torch.Size([13])) that is different to the input size (torch.Size([13, 1])). This will likely lead to incorrect results due to broadcasting. Please ensure they have the same size.\n",
            "  return F.mse_loss(input, target, reduction=self.reduction)\n",
            "100%|██████████| 16/16 [00:00<00:00, 75.27it/s]\n",
            "  0%|          | 0/16 [00:00<?, ?it/s]/usr/local/lib/python3.7/dist-packages/torch/nn/modules/loss.py:528: UserWarning: Using a target size (torch.Size([60])) that is different to the input size (torch.Size([60, 1])). This will likely lead to incorrect results due to broadcasting. Please ensure they have the same size.\n",
            "  return F.mse_loss(input, target, reduction=self.reduction)\n",
            " 50%|█████     | 8/16 [00:00<00:00, 73.81it/s]"
          ],
          "name": "stderr"
        },
        {
          "output_type": "stream",
          "text": [
            "Epoch 28 - training loss: 4.252439007163048\n",
            "Epoch 28 - validation loss: 4.02508664865256\n",
            "\n"
          ],
          "name": "stdout"
        },
        {
          "output_type": "stream",
          "text": [
            "/usr/local/lib/python3.7/dist-packages/torch/nn/modules/loss.py:528: UserWarning: Using a target size (torch.Size([13])) that is different to the input size (torch.Size([13, 1])). This will likely lead to incorrect results due to broadcasting. Please ensure they have the same size.\n",
            "  return F.mse_loss(input, target, reduction=self.reduction)\n",
            "100%|██████████| 16/16 [00:00<00:00, 68.71it/s]\n",
            "  0%|          | 0/16 [00:00<?, ?it/s]/usr/local/lib/python3.7/dist-packages/torch/nn/modules/loss.py:528: UserWarning: Using a target size (torch.Size([60])) that is different to the input size (torch.Size([60, 1])). This will likely lead to incorrect results due to broadcasting. Please ensure they have the same size.\n",
            "  return F.mse_loss(input, target, reduction=self.reduction)\n",
            " 50%|█████     | 8/16 [00:00<00:00, 78.60it/s]"
          ],
          "name": "stderr"
        },
        {
          "output_type": "stream",
          "text": [
            "Epoch 29 - training loss: 4.2519675344228745\n",
            "Epoch 29 - validation loss: 4.006410613199964\n",
            "\n"
          ],
          "name": "stdout"
        },
        {
          "output_type": "stream",
          "text": [
            "/usr/local/lib/python3.7/dist-packages/torch/nn/modules/loss.py:528: UserWarning: Using a target size (torch.Size([13])) that is different to the input size (torch.Size([13, 1])). This will likely lead to incorrect results due to broadcasting. Please ensure they have the same size.\n",
            "  return F.mse_loss(input, target, reduction=self.reduction)\n",
            "100%|██████████| 16/16 [00:00<00:00, 77.31it/s]\n",
            "  0%|          | 0/16 [00:00<?, ?it/s]/usr/local/lib/python3.7/dist-packages/torch/nn/modules/loss.py:528: UserWarning: Using a target size (torch.Size([60])) that is different to the input size (torch.Size([60, 1])). This will likely lead to incorrect results due to broadcasting. Please ensure they have the same size.\n",
            "  return F.mse_loss(input, target, reduction=self.reduction)\n",
            " 56%|█████▋    | 9/16 [00:00<00:00, 84.62it/s]/usr/local/lib/python3.7/dist-packages/torch/nn/modules/loss.py:528: UserWarning: Using a target size (torch.Size([13])) that is different to the input size (torch.Size([13, 1])). This will likely lead to incorrect results due to broadcasting. Please ensure they have the same size.\n",
            "  return F.mse_loss(input, target, reduction=self.reduction)\n",
            "100%|██████████| 16/16 [00:00<00:00, 83.06it/s]"
          ],
          "name": "stderr"
        },
        {
          "output_type": "stream",
          "text": [
            "Epoch 30 - training loss: 4.250926226377487\n",
            "Epoch 30 - validation loss: 4.0277591982906875\n",
            "\n"
          ],
          "name": "stdout"
        },
        {
          "output_type": "stream",
          "text": [
            "\n",
            "  0%|          | 0/16 [00:00<?, ?it/s]/usr/local/lib/python3.7/dist-packages/torch/nn/modules/loss.py:528: UserWarning: Using a target size (torch.Size([60])) that is different to the input size (torch.Size([60, 1])). This will likely lead to incorrect results due to broadcasting. Please ensure they have the same size.\n",
            "  return F.mse_loss(input, target, reduction=self.reduction)\n",
            " 50%|█████     | 8/16 [00:00<00:00, 79.18it/s]"
          ],
          "name": "stderr"
        },
        {
          "output_type": "stream",
          "text": [
            "Epoch 31 - training loss: 4.250761225819588\n",
            "Epoch 31 - validation loss: 4.020655446272497\n",
            "\n"
          ],
          "name": "stdout"
        },
        {
          "output_type": "stream",
          "text": [
            "/usr/local/lib/python3.7/dist-packages/torch/nn/modules/loss.py:528: UserWarning: Using a target size (torch.Size([13])) that is different to the input size (torch.Size([13, 1])). This will likely lead to incorrect results due to broadcasting. Please ensure they have the same size.\n",
            "  return F.mse_loss(input, target, reduction=self.reduction)\n",
            "100%|██████████| 16/16 [00:00<00:00, 74.49it/s]\n",
            "  0%|          | 0/16 [00:00<?, ?it/s]/usr/local/lib/python3.7/dist-packages/torch/nn/modules/loss.py:528: UserWarning: Using a target size (torch.Size([60])) that is different to the input size (torch.Size([60, 1])). This will likely lead to incorrect results due to broadcasting. Please ensure they have the same size.\n",
            "  return F.mse_loss(input, target, reduction=self.reduction)\n",
            " 50%|█████     | 8/16 [00:00<00:00, 77.98it/s]/usr/local/lib/python3.7/dist-packages/torch/nn/modules/loss.py:528: UserWarning: Using a target size (torch.Size([13])) that is different to the input size (torch.Size([13, 1])). This will likely lead to incorrect results due to broadcasting. Please ensure they have the same size.\n",
            "  return F.mse_loss(input, target, reduction=self.reduction)\n",
            "100%|██████████| 16/16 [00:00<00:00, 80.25it/s]"
          ],
          "name": "stderr"
        },
        {
          "output_type": "stream",
          "text": [
            "Epoch 32 - training loss: 4.249837875366211\n",
            "Epoch 32 - validation loss: 4.029354744476069\n",
            "\n"
          ],
          "name": "stdout"
        },
        {
          "output_type": "stream",
          "text": [
            "\n",
            "  0%|          | 0/16 [00:00<?, ?it/s]/usr/local/lib/python3.7/dist-packages/torch/nn/modules/loss.py:528: UserWarning: Using a target size (torch.Size([60])) that is different to the input size (torch.Size([60, 1])). This will likely lead to incorrect results due to broadcasting. Please ensure they have the same size.\n",
            "  return F.mse_loss(input, target, reduction=self.reduction)\n",
            " 56%|█████▋    | 9/16 [00:00<00:00, 82.76it/s]"
          ],
          "name": "stderr"
        },
        {
          "output_type": "stream",
          "text": [
            "Epoch 33 - training loss: 4.2494455724954605\n",
            "Epoch 33 - validation loss: 4.012084373788314\n",
            "\n"
          ],
          "name": "stdout"
        },
        {
          "output_type": "stream",
          "text": [
            "/usr/local/lib/python3.7/dist-packages/torch/nn/modules/loss.py:528: UserWarning: Using a target size (torch.Size([13])) that is different to the input size (torch.Size([13, 1])). This will likely lead to incorrect results due to broadcasting. Please ensure they have the same size.\n",
            "  return F.mse_loss(input, target, reduction=self.reduction)\n",
            "100%|██████████| 16/16 [00:00<00:00, 79.41it/s]\n",
            "  0%|          | 0/16 [00:00<?, ?it/s]/usr/local/lib/python3.7/dist-packages/torch/nn/modules/loss.py:528: UserWarning: Using a target size (torch.Size([60])) that is different to the input size (torch.Size([60, 1])). This will likely lead to incorrect results due to broadcasting. Please ensure they have the same size.\n",
            "  return F.mse_loss(input, target, reduction=self.reduction)\n",
            " 50%|█████     | 8/16 [00:00<00:00, 77.76it/s]"
          ],
          "name": "stderr"
        },
        {
          "output_type": "stream",
          "text": [
            "Epoch 34 - training loss: 4.248612076044083\n",
            "Epoch 34 - validation loss: 4.037456809352396\n",
            "\n"
          ],
          "name": "stdout"
        },
        {
          "output_type": "stream",
          "text": [
            "/usr/local/lib/python3.7/dist-packages/torch/nn/modules/loss.py:528: UserWarning: Using a target size (torch.Size([13])) that is different to the input size (torch.Size([13, 1])). This will likely lead to incorrect results due to broadcasting. Please ensure they have the same size.\n",
            "  return F.mse_loss(input, target, reduction=self.reduction)\n",
            "100%|██████████| 16/16 [00:00<00:00, 77.53it/s]\n",
            "  0%|          | 0/16 [00:00<?, ?it/s]/usr/local/lib/python3.7/dist-packages/torch/nn/modules/loss.py:528: UserWarning: Using a target size (torch.Size([60])) that is different to the input size (torch.Size([60, 1])). This will likely lead to incorrect results due to broadcasting. Please ensure they have the same size.\n",
            "  return F.mse_loss(input, target, reduction=self.reduction)\n",
            " 56%|█████▋    | 9/16 [00:00<00:00, 80.26it/s]"
          ],
          "name": "stderr"
        },
        {
          "output_type": "stream",
          "text": [
            "Epoch 35 - training loss: 4.248863682150841\n",
            "Epoch 35 - validation loss: 3.9864032813348267\n",
            "\n"
          ],
          "name": "stdout"
        },
        {
          "output_type": "stream",
          "text": [
            "/usr/local/lib/python3.7/dist-packages/torch/nn/modules/loss.py:528: UserWarning: Using a target size (torch.Size([13])) that is different to the input size (torch.Size([13, 1])). This will likely lead to incorrect results due to broadcasting. Please ensure they have the same size.\n",
            "  return F.mse_loss(input, target, reduction=self.reduction)\n",
            "100%|██████████| 16/16 [00:00<00:00, 76.36it/s]\n",
            "  0%|          | 0/16 [00:00<?, ?it/s]/usr/local/lib/python3.7/dist-packages/torch/nn/modules/loss.py:528: UserWarning: Using a target size (torch.Size([60])) that is different to the input size (torch.Size([60, 1])). This will likely lead to incorrect results due to broadcasting. Please ensure they have the same size.\n",
            "  return F.mse_loss(input, target, reduction=self.reduction)\n",
            " 56%|█████▋    | 9/16 [00:00<00:00, 82.57it/s]/usr/local/lib/python3.7/dist-packages/torch/nn/modules/loss.py:528: UserWarning: Using a target size (torch.Size([13])) that is different to the input size (torch.Size([13, 1])). This will likely lead to incorrect results due to broadcasting. Please ensure they have the same size.\n",
            "  return F.mse_loss(input, target, reduction=self.reduction)\n",
            "100%|██████████| 16/16 [00:00<00:00, 81.87it/s]"
          ],
          "name": "stderr"
        },
        {
          "output_type": "stream",
          "text": [
            "Epoch 36 - training loss: 4.2473242580890656\n",
            "Epoch 36 - validation loss: 4.0262182088909695\n",
            "\n"
          ],
          "name": "stdout"
        },
        {
          "output_type": "stream",
          "text": [
            "\n",
            "  0%|          | 0/16 [00:00<?, ?it/s]/usr/local/lib/python3.7/dist-packages/torch/nn/modules/loss.py:528: UserWarning: Using a target size (torch.Size([60])) that is different to the input size (torch.Size([60, 1])). This will likely lead to incorrect results due to broadcasting. Please ensure they have the same size.\n",
            "  return F.mse_loss(input, target, reduction=self.reduction)\n",
            " 50%|█████     | 8/16 [00:00<00:00, 74.61it/s]"
          ],
          "name": "stderr"
        },
        {
          "output_type": "stream",
          "text": [
            "Epoch 37 - training loss: 4.247123524546623\n",
            "Epoch 37 - validation loss: 4.012149769014522\n",
            "\n"
          ],
          "name": "stdout"
        },
        {
          "output_type": "stream",
          "text": [
            "/usr/local/lib/python3.7/dist-packages/torch/nn/modules/loss.py:528: UserWarning: Using a target size (torch.Size([13])) that is different to the input size (torch.Size([13, 1])). This will likely lead to incorrect results due to broadcasting. Please ensure they have the same size.\n",
            "  return F.mse_loss(input, target, reduction=self.reduction)\n",
            "100%|██████████| 16/16 [00:00<00:00, 74.95it/s]\n",
            "  0%|          | 0/16 [00:00<?, ?it/s]/usr/local/lib/python3.7/dist-packages/torch/nn/modules/loss.py:528: UserWarning: Using a target size (torch.Size([60])) that is different to the input size (torch.Size([60, 1])). This will likely lead to incorrect results due to broadcasting. Please ensure they have the same size.\n",
            "  return F.mse_loss(input, target, reduction=self.reduction)\n",
            " 56%|█████▋    | 9/16 [00:00<00:00, 85.35it/s]"
          ],
          "name": "stderr"
        },
        {
          "output_type": "stream",
          "text": [
            "Epoch 38 - training loss: 4.246146738529205\n",
            "Epoch 38 - validation loss: 4.042834645968947\n",
            "\n"
          ],
          "name": "stdout"
        },
        {
          "output_type": "stream",
          "text": [
            "/usr/local/lib/python3.7/dist-packages/torch/nn/modules/loss.py:528: UserWarning: Using a target size (torch.Size([13])) that is different to the input size (torch.Size([13, 1])). This will likely lead to incorrect results due to broadcasting. Please ensure they have the same size.\n",
            "  return F.mse_loss(input, target, reduction=self.reduction)\n",
            "100%|██████████| 16/16 [00:00<00:00, 79.21it/s]\n",
            "  0%|          | 0/16 [00:00<?, ?it/s]/usr/local/lib/python3.7/dist-packages/torch/nn/modules/loss.py:528: UserWarning: Using a target size (torch.Size([60])) that is different to the input size (torch.Size([60, 1])). This will likely lead to incorrect results due to broadcasting. Please ensure they have the same size.\n",
            "  return F.mse_loss(input, target, reduction=self.reduction)\n",
            " 44%|████▍     | 7/16 [00:00<00:00, 69.51it/s]"
          ],
          "name": "stderr"
        },
        {
          "output_type": "stream",
          "text": [
            "Epoch 39 - training loss: 4.245977655053139\n",
            "Epoch 39 - validation loss: 4.012602080762318\n",
            "\n"
          ],
          "name": "stdout"
        },
        {
          "output_type": "stream",
          "text": [
            " 94%|█████████▍| 15/16 [00:00<00:00, 68.42it/s]/usr/local/lib/python3.7/dist-packages/torch/nn/modules/loss.py:528: UserWarning: Using a target size (torch.Size([13])) that is different to the input size (torch.Size([13, 1])). This will likely lead to incorrect results due to broadcasting. Please ensure they have the same size.\n",
            "  return F.mse_loss(input, target, reduction=self.reduction)\n",
            "100%|██████████| 16/16 [00:00<00:00, 67.50it/s]\n",
            "  0%|          | 0/16 [00:00<?, ?it/s]/usr/local/lib/python3.7/dist-packages/torch/nn/modules/loss.py:528: UserWarning: Using a target size (torch.Size([60])) that is different to the input size (torch.Size([60, 1])). This will likely lead to incorrect results due to broadcasting. Please ensure they have the same size.\n",
            "  return F.mse_loss(input, target, reduction=self.reduction)\n",
            " 44%|████▍     | 7/16 [00:00<00:00, 63.74it/s]"
          ],
          "name": "stderr"
        },
        {
          "output_type": "stream",
          "text": [
            "Epoch 40 - training loss: 4.245220839977264\n",
            "Epoch 40 - validation loss: 4.03577645925448\n",
            "\n"
          ],
          "name": "stdout"
        },
        {
          "output_type": "stream",
          "text": [
            " 88%|████████▊ | 14/16 [00:00<00:00, 60.68it/s]/usr/local/lib/python3.7/dist-packages/torch/nn/modules/loss.py:528: UserWarning: Using a target size (torch.Size([13])) that is different to the input size (torch.Size([13, 1])). This will likely lead to incorrect results due to broadcasting. Please ensure they have the same size.\n",
            "  return F.mse_loss(input, target, reduction=self.reduction)\n",
            "100%|██████████| 16/16 [00:00<00:00, 60.66it/s]\n",
            "  0%|          | 0/16 [00:00<?, ?it/s]/usr/local/lib/python3.7/dist-packages/torch/nn/modules/loss.py:528: UserWarning: Using a target size (torch.Size([60])) that is different to the input size (torch.Size([60, 1])). This will likely lead to incorrect results due to broadcasting. Please ensure they have the same size.\n",
            "  return F.mse_loss(input, target, reduction=self.reduction)\n",
            " 38%|███▊      | 6/16 [00:00<00:00, 54.11it/s]"
          ],
          "name": "stderr"
        },
        {
          "output_type": "stream",
          "text": [
            "Epoch 41 - training loss: 4.245073094964027\n",
            "Epoch 41 - validation loss: 4.016504622008465\n",
            "\n"
          ],
          "name": "stdout"
        },
        {
          "output_type": "stream",
          "text": [
            " 75%|███████▌  | 12/16 [00:00<00:00, 52.06it/s]/usr/local/lib/python3.7/dist-packages/torch/nn/modules/loss.py:528: UserWarning: Using a target size (torch.Size([13])) that is different to the input size (torch.Size([13, 1])). This will likely lead to incorrect results due to broadcasting. Please ensure they have the same size.\n",
            "  return F.mse_loss(input, target, reduction=self.reduction)\n",
            "100%|██████████| 16/16 [00:00<00:00, 53.05it/s]\n",
            "  0%|          | 0/16 [00:00<?, ?it/s]/usr/local/lib/python3.7/dist-packages/torch/nn/modules/loss.py:528: UserWarning: Using a target size (torch.Size([60])) that is different to the input size (torch.Size([60, 1])). This will likely lead to incorrect results due to broadcasting. Please ensure they have the same size.\n",
            "  return F.mse_loss(input, target, reduction=self.reduction)\n",
            " 31%|███▏      | 5/16 [00:00<00:00, 49.16it/s]"
          ],
          "name": "stderr"
        },
        {
          "output_type": "stream",
          "text": [
            "Epoch 42 - training loss: 4.244043305516243\n",
            "Epoch 42 - validation loss: 4.0557390870691465\n",
            "\n"
          ],
          "name": "stdout"
        },
        {
          "output_type": "stream",
          "text": [
            " 94%|█████████▍| 15/16 [00:00<00:00, 46.79it/s]/usr/local/lib/python3.7/dist-packages/torch/nn/modules/loss.py:528: UserWarning: Using a target size (torch.Size([13])) that is different to the input size (torch.Size([13, 1])). This will likely lead to incorrect results due to broadcasting. Please ensure they have the same size.\n",
            "  return F.mse_loss(input, target, reduction=self.reduction)\n",
            "100%|██████████| 16/16 [00:00<00:00, 46.55it/s]\n"
          ],
          "name": "stderr"
        },
        {
          "output_type": "stream",
          "text": [
            "Epoch 43 - training loss: 4.243978783488274\n",
            "Epoch 43 - validation loss: 4.014083628303162\n",
            "\n"
          ],
          "name": "stdout"
        }
      ]
    },
    {
      "cell_type": "code",
      "metadata": {
        "id": "EuASc4-exEIc"
      },
      "source": [
        "from matplotlib.pyplot import figure\n",
        "def plot_train_valid_loss(train_loss, valid_loss):\n",
        "    fig, ax = plt.subplots(figsize = (8, 13))\n",
        "    ax.plot(train_loss, label=\"train_loss\")\n",
        "    ax.plot(valid_loss, label=\"valid_loss\")\n",
        "    ax.legend()\n",
        "    ax.set_xlabel('epochs')\n",
        "    ax.set_ylabel('loss')\n",
        "    # fig = plt.figure(figsize=(20, 15), dpi=100)\n",
        "    plt.show()"
      ],
      "execution_count": null,
      "outputs": []
    },
    {
      "cell_type": "code",
      "metadata": {
        "colab": {
          "base_uri": "https://localhost:8080/",
          "height": 769
        },
        "id": "tXzSe3_5xMB0",
        "outputId": "0b3e4d61-02af-437f-ad78-8ba814a07374"
      },
      "source": [
        "\n",
        "plot_train_valid_loss(train_loss, valid_loss)"
      ],
      "execution_count": null,
      "outputs": [
        {
          "output_type": "display_data",
          "data": {
            "image/png": "[encoded data removed]",
            "text/plain": [
              "<Figure size 576x936 with 1 Axes>"
            ]
          },
          "metadata": {
            "tags": [],
            "needs_background": "light"
          }
        }
      ]
    },
    {
      "cell_type": "markdown",
      "metadata": {
        "id": "2izKKZ5sU2E_"
      },
      "source": [
        "Loss для Validation я считал с помощью метрик в r2kit. Эпох более 50. Когда я считал loss для validation и ставил EarlyStopping с помощью criterion, то эпох < 20\n"
      ]
    },
    {
      "cell_type": "code",
      "metadata": {
        "id": "eupCN9HG-Dvo"
      },
      "source": [
        ""
      ],
      "execution_count": null,
      "outputs": []
    },
    {
      "cell_type": "code",
      "metadata": {
        "colab": {
          "base_uri": "https://localhost:8080/"
        },
        "id": "CW2o4BDt4IIZ",
        "outputId": "a2d2e5a2-5fe9-476b-88d7-183023511d6c"
      },
      "source": [
        "ctrl.__dict__"
      ],
      "execution_count": null,
      "outputs": [
        {
          "output_type": "execute_result",
          "data": {
            "text/plain": [
              "{'best_model': my_damn_net(\n",
              "   (input_layer): Linear(in_features=1024, out_features=512, bias=True)\n",
              "   (second_layer): Linear(in_features=512, out_features=256, bias=True)\n",
              "   (third_layer): Linear(in_features=256, out_features=128, bias=True)\n",
              "   (ans): Linear(in_features=128, out_features=1, bias=True)\n",
              "   (dropout): Dropout(p=0.5, inplace=False)\n",
              " ),\n",
              " 'best_score': 3.9864032813348267,\n",
              " 'counter': 8,\n",
              " 'delta': 0,\n",
              " 'epoch': 0,\n",
              " 'path': '/content/drive/MyDrive/HSE_data/fucking_model.pt',\n",
              " 'patience': 7,\n",
              " 'stop': True,\n",
              " 'verbose': False}"
            ]
          },
          "metadata": {
            "tags": []
          },
          "execution_count": 80
        }
      ]
    },
    {
      "cell_type": "code",
      "metadata": {
        "colab": {
          "base_uri": "https://localhost:8080/",
          "height": 298
        },
        "id": "7nd2uv-B-lbJ",
        "outputId": "5ade98e4-5a38-4379-c9ee-f34fed408380"
      },
      "source": [
        "test_calculat(model, torch.tensor(X_test), y_test.values)"
      ],
      "execution_count": null,
      "outputs": [
        {
          "output_type": "stream",
          "text": [
            "MannwhitneyuResult(statistic=6227.0, pvalue=0.37469366833537554)\n"
          ],
          "name": "stdout"
        },
        {
          "output_type": "execute_result",
          "data": {
            "text/plain": [
              "(5.226565246542069, 9.759786035690166e-05)"
            ]
          },
          "metadata": {
            "tags": []
          },
          "execution_count": 81
        },
        {
          "output_type": "display_data",
          "data": {
            "image/png": "[encoded data removed]",
            "text/plain": [
              "<Figure size 432x288 with 1 Axes>"
            ]
          },
          "metadata": {
            "tags": [],
            "needs_background": "light"
          }
        }
      ]
    },
    {
      "cell_type": "markdown",
      "metadata": {
        "id": "RZOCbRs8f-cV"
      },
      "source": [
        "**MSE = 5.23, R2 = 0.0001 для тестового сета esol из 10% молекул датасета**\n",
        "\n",
        "\n",
        "\n",
        "![image.png](data:image/png;base64,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)\n"
      ]
    },
    {
      "cell_type": "markdown",
      "metadata": {
        "id": "IvqUff-kfNyz"
      },
      "source": [
        "Критерий Манна-Уитни говорит, что данные выборки были выбраны из одной генеральной совокупности, p = 0.08 (p >= 0.05)\n"
      ]
    },
    {
      "cell_type": "markdown",
      "metadata": {
        "id": "WDjZaVWxntHG"
      },
      "source": [
        "# 4. Обработка Lipophilicity (растворимость в жирах)"
      ]
    },
    {
      "cell_type": "code",
      "metadata": {
        "id": "AFQhBNEYYnVU"
      },
      "source": [
        ""
      ],
      "execution_count": null,
      "outputs": []
    },
    {
      "cell_type": "code",
      "metadata": {
        "colab": {
          "base_uri": "https://localhost:8080/"
        },
        "id": "ZId-8TOaYn0i",
        "outputId": "e6aa319b-5ba2-4eda-f0df-d34c7d0c2b34"
      },
      "source": [
        "!wget https://github.com/kostyastrong/HSE_nlp_mol_properties/raw/master/data/lipophilicity.csv"
      ],
      "execution_count": null,
      "outputs": [
        {
          "output_type": "stream",
          "text": [
            "--2021-05-09 19:48:04--  https://github.com/kostyastrong/HSE_nlp_mol_properties/raw/master/data/lipophilicity.csv\n",
            "Resolving github.com (github.com)... 140.82.113.4\n",
            "Connecting to github.com (github.com)|140.82.113.4|:443... connected.\n",
            "HTTP request sent, awaiting response... 302 Found\n",
            "Location: https://raw.githubusercontent.com/kostyastrong/HSE_nlp_mol_properties/master/data/lipophilicity.csv [following]\n",
            "--2021-05-09 19:48:04--  https://raw.githubusercontent.com/kostyastrong/HSE_nlp_mol_properties/master/data/lipophilicity.csv\n",
            "Resolving raw.githubusercontent.com (raw.githubusercontent.com)... 185.199.111.133, 185.199.110.133, 185.199.108.133, ...\n",
            "Connecting to raw.githubusercontent.com (raw.githubusercontent.com)|185.199.111.133|:443... connected.\n",
            "HTTP request sent, awaiting response... 200 OK\n",
            "Length: 282606 (276K) [text/plain]\n",
            "Saving to: ‘lipophilicity.csv’\n",
            "\n",
            "lipophilicity.csv   100%[===================>] 275.98K  --.-KB/s    in 0.03s   \n",
            "\n",
            "2021-05-09 19:48:05 (8.78 MB/s) - ‘lipophilicity.csv’ saved [282606/282606]\n",
            "\n"
          ],
          "name": "stdout"
        }
      ]
    },
    {
      "cell_type": "code",
      "metadata": {
        "colab": {
          "base_uri": "https://localhost:8080/"
        },
        "id": "mIyFVIsrgxwD",
        "outputId": "67e67de4-8482-42f0-e6af-dee01d3b1fc4"
      },
      "source": [
        "data_lip = pd.read_csv('lipophilicity.csv')\n",
        "x_split_lip = data_lip.smiles.apply(split)\n",
        "xid_lip = get_array(x_split_lip)"
      ],
      "execution_count": null,
      "outputs": [
        {
          "output_type": "stream",
          "text": [
            "SMILES is too long (251)\n",
            "SMILES is too long (267)\n"
          ],
          "name": "stdout"
        }
      ]
    },
    {
      "cell_type": "code",
      "metadata": {
        "colab": {
          "base_uri": "https://localhost:8080/"
        },
        "id": "Xd6WS4P_hG2p",
        "outputId": "063a623b-1bc0-493e-bf08-7bf63c8f298a"
      },
      "source": [
        "X_lip = trfm.encode(torch.t(xid_lip))\n",
        "print(X_lip.shape)"
      ],
      "execution_count": null,
      "outputs": [
        {
          "output_type": "stream",
          "text": [
            "There are 4200 molecules. It will take a little time.\n",
            "(4200, 1024)\n"
          ],
          "name": "stdout"
        }
      ]
    },
    {
      "cell_type": "code",
      "metadata": {
        "id": "dvFz1t48hJJg"
      },
      "source": [
        "y_lip = data_lip['exp']"
      ],
      "execution_count": null,
      "outputs": []
    },
    {
      "cell_type": "code",
      "metadata": {
        "id": "-F4AulHZhrA6"
      },
      "source": [
        "X_train, X_test, y_train, y_test = train_test_split(X_lip, y_lip, test_size=0.1, random_state=42)\n",
        "X_train, X_valid, y_train, y_valid = train_test_split(X_train, y_train, test_size=0.1)\n",
        "trainset = MyDataset(X_train, y_train.values)\n",
        "validset = MyDataset(X_valid, y_valid.values)\n",
        "\n",
        "batch_size = 60\n",
        "trainloader = torch.utils.data.DataLoader(trainset, batch_size=batch_size) #already shuffled\n",
        "validloader = torch.utils.data.DataLoader(validset, batch_size=batch_size)"
      ],
      "execution_count": null,
      "outputs": []
    },
    {
      "cell_type": "code",
      "metadata": {
        "colab": {
          "base_uri": "https://localhost:8080/"
        },
        "id": "E63rUuiMh3JP",
        "outputId": "e049b60f-8cab-4571-8e1a-daac7c6fe20c"
      },
      "source": [
        "\n",
        "# Создаем новую модель\n",
        "model = my_damn_net()\n",
        "\n",
        "model = model.to(device)\n",
        "\n",
        "\n",
        "# Loss функция и оптимизатор будут необходимы при обучении.\n",
        "criterion = nn.MSELoss()\n",
        "optimizer = optim.Adam(model.parameters(), \n",
        "                    lr=0.001\n",
        "                    )\n",
        "\n",
        "ctrl = EarlyStopping()\n",
        "\n",
        "from tqdm import tqdm\n",
        "\n",
        "epoch = 0\n",
        "valid_loss = []\n",
        "train_loss = []\n",
        "\n",
        "while not ctrl.stop:\n",
        "    running_loss = 0\n",
        "\n",
        "    for feat, ans in tqdm(trainloader):\n",
        "        feat = feat.to(device)\n",
        "        ans = ans.float()\n",
        "        ans = ans.to(device)\n",
        "        optimizer.zero_grad() #обнуление градиента\n",
        "        \n",
        "        output = model(feat).float()\n",
        "        \n",
        "        loss = criterion(output, ans)\n",
        "\n",
        "        loss.backward() #вычисление градиента\n",
        "\n",
        "        optimizer.step() #обучение нейронки\n",
        "\n",
        "        running_loss += loss.item()\n",
        "\n",
        "    loss = valid_calculat(model, validloader)\n",
        "    valid_loss.append(loss)\n",
        "\n",
        "    ctrl(loss, model)\n",
        "\n",
        "    train_loss.append(running_loss / len(trainloader))\n",
        "\n",
        "    print(f\"Epoch {epoch} - training loss: {train_loss[-1]}\")\n",
        "    print(f\"Epoch {epoch} - validation loss: {loss}\")\n",
        "    print()\n",
        "\n",
        "    epoch += 1\n",
        "\n",
        "    if epoch == 150:\n",
        "        break\n",
        "\n"
      ],
      "execution_count": null,
      "outputs": [
        {
          "output_type": "stream",
          "text": [
            "  0%|          | 0/57 [00:00<?, ?it/s]/usr/local/lib/python3.7/dist-packages/torch/nn/modules/loss.py:528: UserWarning: Using a target size (torch.Size([60])) that is different to the input size (torch.Size([60, 1])). This will likely lead to incorrect results due to broadcasting. Please ensure they have the same size.\n",
            "  return F.mse_loss(input, target, reduction=self.reduction)\n",
            "  9%|▉         | 5/57 [00:00<00:01, 46.74it/s]"
          ],
          "name": "stderr"
        },
        {
          "output_type": "stream",
          "text": [
            "Drive already mounted at /content/drive; to attempt to forcibly remount, call drive.mount(\"/content/drive\", force_remount=True).\n"
          ],
          "name": "stdout"
        },
        {
          "output_type": "stream",
          "text": [
            " 96%|█████████▋| 55/57 [00:01<00:00, 43.40it/s]/usr/local/lib/python3.7/dist-packages/torch/nn/modules/loss.py:528: UserWarning: Using a target size (torch.Size([42])) that is different to the input size (torch.Size([42, 1])). This will likely lead to incorrect results due to broadcasting. Please ensure they have the same size.\n",
            "  return F.mse_loss(input, target, reduction=self.reduction)\n",
            "100%|██████████| 57/57 [00:01<00:00, 44.27it/s]\n",
            "  0%|          | 0/57 [00:00<?, ?it/s]/usr/local/lib/python3.7/dist-packages/torch/nn/modules/loss.py:528: UserWarning: Using a target size (torch.Size([60])) that is different to the input size (torch.Size([60, 1])). This will likely lead to incorrect results due to broadcasting. Please ensure they have the same size.\n",
            "  return F.mse_loss(input, target, reduction=self.reduction)\n",
            "  9%|▉         | 5/57 [00:00<00:01, 43.30it/s]"
          ],
          "name": "stderr"
        },
        {
          "output_type": "stream",
          "text": [
            "Epoch 0 - training loss: 1.7468242038760269\n",
            "Epoch 0 - validation loss: 1.3974595539200625\n",
            "\n"
          ],
          "name": "stdout"
        },
        {
          "output_type": "stream",
          "text": [
            " 96%|█████████▋| 55/57 [00:01<00:00, 45.10it/s]/usr/local/lib/python3.7/dist-packages/torch/nn/modules/loss.py:528: UserWarning: Using a target size (torch.Size([42])) that is different to the input size (torch.Size([42, 1])). This will likely lead to incorrect results due to broadcasting. Please ensure they have the same size.\n",
            "  return F.mse_loss(input, target, reduction=self.reduction)\n",
            "100%|██████████| 57/57 [00:01<00:00, 45.22it/s]\n",
            "  0%|          | 0/57 [00:00<?, ?it/s]/usr/local/lib/python3.7/dist-packages/torch/nn/modules/loss.py:528: UserWarning: Using a target size (torch.Size([60])) that is different to the input size (torch.Size([60, 1])). This will likely lead to incorrect results due to broadcasting. Please ensure they have the same size.\n",
            "  return F.mse_loss(input, target, reduction=self.reduction)\n",
            "  9%|▉         | 5/57 [00:00<00:01, 42.34it/s]"
          ],
          "name": "stderr"
        },
        {
          "output_type": "stream",
          "text": [
            "Epoch 1 - training loss: 1.5003292529206527\n",
            "Epoch 1 - validation loss: 1.392094745048225\n",
            "\n"
          ],
          "name": "stdout"
        },
        {
          "output_type": "stream",
          "text": [
            " 96%|█████████▋| 55/57 [00:01<00:00, 46.73it/s]/usr/local/lib/python3.7/dist-packages/torch/nn/modules/loss.py:528: UserWarning: Using a target size (torch.Size([42])) that is different to the input size (torch.Size([42, 1])). This will likely lead to incorrect results due to broadcasting. Please ensure they have the same size.\n",
            "  return F.mse_loss(input, target, reduction=self.reduction)\n",
            "100%|██████████| 57/57 [00:01<00:00, 45.65it/s]\n",
            "  0%|          | 0/57 [00:00<?, ?it/s]/usr/local/lib/python3.7/dist-packages/torch/nn/modules/loss.py:528: UserWarning: Using a target size (torch.Size([60])) that is different to the input size (torch.Size([60, 1])). This will likely lead to incorrect results due to broadcasting. Please ensure they have the same size.\n",
            "  return F.mse_loss(input, target, reduction=self.reduction)\n",
            "  9%|▉         | 5/57 [00:00<00:01, 44.36it/s]"
          ],
          "name": "stderr"
        },
        {
          "output_type": "stream",
          "text": [
            "Epoch 2 - training loss: 1.5021142760912578\n",
            "Epoch 2 - validation loss: 1.3878657915925907\n",
            "\n"
          ],
          "name": "stdout"
        },
        {
          "output_type": "stream",
          "text": [
            " 96%|█████████▋| 55/57 [00:01<00:00, 44.89it/s]/usr/local/lib/python3.7/dist-packages/torch/nn/modules/loss.py:528: UserWarning: Using a target size (torch.Size([42])) that is different to the input size (torch.Size([42, 1])). This will likely lead to incorrect results due to broadcasting. Please ensure they have the same size.\n",
            "  return F.mse_loss(input, target, reduction=self.reduction)\n",
            "100%|██████████| 57/57 [00:01<00:00, 45.42it/s]\n",
            "  0%|          | 0/57 [00:00<?, ?it/s]/usr/local/lib/python3.7/dist-packages/torch/nn/modules/loss.py:528: UserWarning: Using a target size (torch.Size([60])) that is different to the input size (torch.Size([60, 1])). This will likely lead to incorrect results due to broadcasting. Please ensure they have the same size.\n",
            "  return F.mse_loss(input, target, reduction=self.reduction)\n",
            "  9%|▉         | 5/57 [00:00<00:01, 45.26it/s]"
          ],
          "name": "stderr"
        },
        {
          "output_type": "stream",
          "text": [
            "Epoch 3 - training loss: 1.4972153326921296\n",
            "Epoch 3 - validation loss: 1.3837664759179693\n",
            "\n"
          ],
          "name": "stdout"
        },
        {
          "output_type": "stream",
          "text": [
            " 96%|█████████▋| 55/57 [00:01<00:00, 46.69it/s]/usr/local/lib/python3.7/dist-packages/torch/nn/modules/loss.py:528: UserWarning: Using a target size (torch.Size([42])) that is different to the input size (torch.Size([42, 1])). This will likely lead to incorrect results due to broadcasting. Please ensure they have the same size.\n",
            "  return F.mse_loss(input, target, reduction=self.reduction)\n",
            "100%|██████████| 57/57 [00:01<00:00, 45.14it/s]\n",
            "  0%|          | 0/57 [00:00<?, ?it/s]/usr/local/lib/python3.7/dist-packages/torch/nn/modules/loss.py:528: UserWarning: Using a target size (torch.Size([60])) that is different to the input size (torch.Size([60, 1])). This will likely lead to incorrect results due to broadcasting. Please ensure they have the same size.\n",
            "  return F.mse_loss(input, target, reduction=self.reduction)\n",
            "  9%|▉         | 5/57 [00:00<00:01, 47.00it/s]"
          ],
          "name": "stderr"
        },
        {
          "output_type": "stream",
          "text": [
            "Epoch 4 - training loss: 1.4924237330754597\n",
            "Epoch 4 - validation loss: 1.3818107498758103\n",
            "\n"
          ],
          "name": "stdout"
        },
        {
          "output_type": "stream",
          "text": [
            " 96%|█████████▋| 55/57 [00:01<00:00, 47.03it/s]/usr/local/lib/python3.7/dist-packages/torch/nn/modules/loss.py:528: UserWarning: Using a target size (torch.Size([42])) that is different to the input size (torch.Size([42, 1])). This will likely lead to incorrect results due to broadcasting. Please ensure they have the same size.\n",
            "  return F.mse_loss(input, target, reduction=self.reduction)\n",
            "100%|██████████| 57/57 [00:01<00:00, 46.55it/s]\n",
            "  0%|          | 0/57 [00:00<?, ?it/s]/usr/local/lib/python3.7/dist-packages/torch/nn/modules/loss.py:528: UserWarning: Using a target size (torch.Size([60])) that is different to the input size (torch.Size([60, 1])). This will likely lead to incorrect results due to broadcasting. Please ensure they have the same size.\n",
            "  return F.mse_loss(input, target, reduction=self.reduction)\n",
            "  9%|▉         | 5/57 [00:00<00:01, 46.41it/s]"
          ],
          "name": "stderr"
        },
        {
          "output_type": "stream",
          "text": [
            "Epoch 5 - training loss: 1.488727066600532\n",
            "Epoch 5 - validation loss: 1.3820079951184125\n",
            "\n"
          ],
          "name": "stdout"
        },
        {
          "output_type": "stream",
          "text": [
            " 96%|█████████▋| 55/57 [00:01<00:00, 46.82it/s]/usr/local/lib/python3.7/dist-packages/torch/nn/modules/loss.py:528: UserWarning: Using a target size (torch.Size([42])) that is different to the input size (torch.Size([42, 1])). This will likely lead to incorrect results due to broadcasting. Please ensure they have the same size.\n",
            "  return F.mse_loss(input, target, reduction=self.reduction)\n",
            "100%|██████████| 57/57 [00:01<00:00, 46.27it/s]\n",
            "  0%|          | 0/57 [00:00<?, ?it/s]/usr/local/lib/python3.7/dist-packages/torch/nn/modules/loss.py:528: UserWarning: Using a target size (torch.Size([60])) that is different to the input size (torch.Size([60, 1])). This will likely lead to incorrect results due to broadcasting. Please ensure they have the same size.\n",
            "  return F.mse_loss(input, target, reduction=self.reduction)\n",
            "  9%|▉         | 5/57 [00:00<00:01, 47.14it/s]"
          ],
          "name": "stderr"
        },
        {
          "output_type": "stream",
          "text": [
            "Epoch 6 - training loss: 1.48566234320925\n",
            "Epoch 6 - validation loss: 1.3837954582967051\n",
            "\n"
          ],
          "name": "stdout"
        },
        {
          "output_type": "stream",
          "text": [
            " 96%|█████████▋| 55/57 [00:01<00:00, 47.46it/s]/usr/local/lib/python3.7/dist-packages/torch/nn/modules/loss.py:528: UserWarning: Using a target size (torch.Size([42])) that is different to the input size (torch.Size([42, 1])). This will likely lead to incorrect results due to broadcasting. Please ensure they have the same size.\n",
            "  return F.mse_loss(input, target, reduction=self.reduction)\n",
            "100%|██████████| 57/57 [00:01<00:00, 46.37it/s]\n",
            "  0%|          | 0/57 [00:00<?, ?it/s]/usr/local/lib/python3.7/dist-packages/torch/nn/modules/loss.py:528: UserWarning: Using a target size (torch.Size([60])) that is different to the input size (torch.Size([60, 1])). This will likely lead to incorrect results due to broadcasting. Please ensure they have the same size.\n",
            "  return F.mse_loss(input, target, reduction=self.reduction)\n",
            "  9%|▉         | 5/57 [00:00<00:01, 46.84it/s]"
          ],
          "name": "stderr"
        },
        {
          "output_type": "stream",
          "text": [
            "Epoch 7 - training loss: 1.4834034055994267\n",
            "Epoch 7 - validation loss: 1.3851578340176285\n",
            "\n"
          ],
          "name": "stdout"
        },
        {
          "output_type": "stream",
          "text": [
            " 96%|█████████▋| 55/57 [00:01<00:00, 47.46it/s]/usr/local/lib/python3.7/dist-packages/torch/nn/modules/loss.py:528: UserWarning: Using a target size (torch.Size([42])) that is different to the input size (torch.Size([42, 1])). This will likely lead to incorrect results due to broadcasting. Please ensure they have the same size.\n",
            "  return F.mse_loss(input, target, reduction=self.reduction)\n",
            "100%|██████████| 57/57 [00:01<00:00, 46.16it/s]\n",
            "  0%|          | 0/57 [00:00<?, ?it/s]/usr/local/lib/python3.7/dist-packages/torch/nn/modules/loss.py:528: UserWarning: Using a target size (torch.Size([60])) that is different to the input size (torch.Size([60, 1])). This will likely lead to incorrect results due to broadcasting. Please ensure they have the same size.\n",
            "  return F.mse_loss(input, target, reduction=self.reduction)\n",
            "  9%|▉         | 5/57 [00:00<00:01, 45.88it/s]"
          ],
          "name": "stderr"
        },
        {
          "output_type": "stream",
          "text": [
            "Epoch 8 - training loss: 1.4816322964534425\n",
            "Epoch 8 - validation loss: 1.3873210503083742\n",
            "\n"
          ],
          "name": "stdout"
        },
        {
          "output_type": "stream",
          "text": [
            " 96%|█████████▋| 55/57 [00:01<00:00, 45.95it/s]/usr/local/lib/python3.7/dist-packages/torch/nn/modules/loss.py:528: UserWarning: Using a target size (torch.Size([42])) that is different to the input size (torch.Size([42, 1])). This will likely lead to incorrect results due to broadcasting. Please ensure they have the same size.\n",
            "  return F.mse_loss(input, target, reduction=self.reduction)\n",
            "100%|██████████| 57/57 [00:01<00:00, 46.03it/s]\n",
            "  0%|          | 0/57 [00:00<?, ?it/s]/usr/local/lib/python3.7/dist-packages/torch/nn/modules/loss.py:528: UserWarning: Using a target size (torch.Size([60])) that is different to the input size (torch.Size([60, 1])). This will likely lead to incorrect results due to broadcasting. Please ensure they have the same size.\n",
            "  return F.mse_loss(input, target, reduction=self.reduction)\n",
            "  9%|▉         | 5/57 [00:00<00:01, 46.34it/s]"
          ],
          "name": "stderr"
        },
        {
          "output_type": "stream",
          "text": [
            "Epoch 9 - training loss: 1.4798016652726291\n",
            "Epoch 9 - validation loss: 1.3891946043922152\n",
            "\n"
          ],
          "name": "stdout"
        },
        {
          "output_type": "stream",
          "text": [
            " 96%|█████████▋| 55/57 [00:01<00:00, 45.05it/s]/usr/local/lib/python3.7/dist-packages/torch/nn/modules/loss.py:528: UserWarning: Using a target size (torch.Size([42])) that is different to the input size (torch.Size([42, 1])). This will likely lead to incorrect results due to broadcasting. Please ensure they have the same size.\n",
            "  return F.mse_loss(input, target, reduction=self.reduction)\n",
            "100%|██████████| 57/57 [00:01<00:00, 45.94it/s]\n",
            "  0%|          | 0/57 [00:00<?, ?it/s]/usr/local/lib/python3.7/dist-packages/torch/nn/modules/loss.py:528: UserWarning: Using a target size (torch.Size([60])) that is different to the input size (torch.Size([60, 1])). This will likely lead to incorrect results due to broadcasting. Please ensure they have the same size.\n",
            "  return F.mse_loss(input, target, reduction=self.reduction)\n",
            "  9%|▉         | 5/57 [00:00<00:01, 44.76it/s]"
          ],
          "name": "stderr"
        },
        {
          "output_type": "stream",
          "text": [
            "Epoch 10 - training loss: 1.47836039463679\n",
            "Epoch 10 - validation loss: 1.390130219796812\n",
            "\n"
          ],
          "name": "stdout"
        },
        {
          "output_type": "stream",
          "text": [
            " 93%|█████████▎| 53/57 [00:01<00:00, 38.81it/s]/usr/local/lib/python3.7/dist-packages/torch/nn/modules/loss.py:528: UserWarning: Using a target size (torch.Size([42])) that is different to the input size (torch.Size([42, 1])). This will likely lead to incorrect results due to broadcasting. Please ensure they have the same size.\n",
            "  return F.mse_loss(input, target, reduction=self.reduction)\n",
            "100%|██████████| 57/57 [00:01<00:00, 40.59it/s]\n",
            "  0%|          | 0/57 [00:00<?, ?it/s]/usr/local/lib/python3.7/dist-packages/torch/nn/modules/loss.py:528: UserWarning: Using a target size (torch.Size([60])) that is different to the input size (torch.Size([60, 1])). This will likely lead to incorrect results due to broadcasting. Please ensure they have the same size.\n",
            "  return F.mse_loss(input, target, reduction=self.reduction)\n",
            "  7%|▋         | 4/57 [00:00<00:01, 33.91it/s]"
          ],
          "name": "stderr"
        },
        {
          "output_type": "stream",
          "text": [
            "Epoch 11 - training loss: 1.476960815881428\n",
            "Epoch 11 - validation loss: 1.3898303168485475\n",
            "\n"
          ],
          "name": "stdout"
        },
        {
          "output_type": "stream",
          "text": [
            " 98%|█████████▊| 56/57 [00:01<00:00, 32.26it/s]/usr/local/lib/python3.7/dist-packages/torch/nn/modules/loss.py:528: UserWarning: Using a target size (torch.Size([42])) that is different to the input size (torch.Size([42, 1])). This will likely lead to incorrect results due to broadcasting. Please ensure they have the same size.\n",
            "  return F.mse_loss(input, target, reduction=self.reduction)\n",
            "100%|██████████| 57/57 [00:01<00:00, 32.96it/s]"
          ],
          "name": "stderr"
        },
        {
          "output_type": "stream",
          "text": [
            "Epoch 12 - training loss: 1.4763625996154652\n",
            "Epoch 12 - validation loss: 1.392802815659893\n",
            "\n"
          ],
          "name": "stdout"
        },
        {
          "output_type": "stream",
          "text": [
            "\n"
          ],
          "name": "stderr"
        }
      ]
    },
    {
      "cell_type": "code",
      "metadata": {
        "colab": {
          "base_uri": "https://localhost:8080/",
          "height": 769
        },
        "id": "GsLg9HDqh6Oa",
        "outputId": "fcdce75d-95bc-45ad-8e34-fc2e4307d4d2"
      },
      "source": [
        "\n",
        "plot_train_valid_loss(train_loss, valid_loss)"
      ],
      "execution_count": null,
      "outputs": [
        {
          "output_type": "display_data",
          "data": {
            "image/png": "[encoded data removed]",
            "text/plain": [
              "<Figure size 576x936 with 1 Axes>"
            ]
          },
          "metadata": {
            "tags": [],
            "needs_background": "light"
          }
        }
      ]
    },
    {
      "cell_type": "code",
      "metadata": {
        "colab": {
          "base_uri": "https://localhost:8080/",
          "height": 298
        },
        "id": "bgfo05m6iKDU",
        "outputId": "ffd2d6d5-27c2-4307-e8de-50653bc64172"
      },
      "source": [
        "test_calculat(model, torch.tensor(X_test), y_test.values)"
      ],
      "execution_count": null,
      "outputs": [
        {
          "output_type": "stream",
          "text": [
            "MannwhitneyuResult(statistic=81626.0, pvalue=0.03077180313039602)\n"
          ],
          "name": "stdout"
        },
        {
          "output_type": "execute_result",
          "data": {
            "text/plain": [
              "(1.3816576858116951, 0.012027260240867088)"
            ]
          },
          "metadata": {
            "tags": []
          },
          "execution_count": 89
        },
        {
          "output_type": "display_data",
          "data": {
            "image/png": "[encoded data removed]",
            "text/plain": [
              "<Figure size 432x288 with 1 Axes>"
            ]
          },
          "metadata": {
            "tags": [],
            "needs_background": "light"
          }
        }
      ]
    },
    {
      "cell_type": "markdown",
      "metadata": {
        "id": "PuhWrXE6iwO5"
      },
      "source": [
        "**MSE = 1.45, R2 = -0.04**\n",
        "\n",
        "Распределения из разных выборок по критерию Манна Уитни отличаются (p < 0.05). То есть, модель не научилась предсказывать растворимость молекул в жирах\n"
      ]
    }
  ]
}